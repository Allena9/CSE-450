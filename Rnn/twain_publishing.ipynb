{
 "cells": [
  {
   "cell_type": "code",
   "execution_count": 3,
   "metadata": {
    "id": "aUB4xrFdLkr8"
   },
   "outputs": [],
   "source": [
    "restart = True\n",
    "epoch_to_pickup = 0"
   ]
  },
  {
   "cell_type": "code",
   "execution_count": 4,
   "metadata": {
    "id": "XtiXE04uGB_U"
   },
   "outputs": [],
   "source": [
    "# Import libraries\n",
    "\n",
    "from tensorflow.keras.layers.experimental.preprocessing import StringLookup\n",
    "import numpy as np\n",
    "import os\n",
    "import time\n",
    "import random\n",
    "import contextlib\n",
    "import io\n",
    "import re\n",
    "import string\n",
    "import gc  # Import the garbage collector module\n",
    "import unicodedata\n",
    "from plyer import notification\n",
    "\n",
    "import tensorflow as tf\n",
    "from tensorflow import keras\n",
    "from tensorflow.keras import Sequential\n",
    "from tensorflow.keras.layers import Dense, Embedding, GlobalAveragePooling1D\n",
    "from tensorflow.keras.layers.experimental.preprocessing import TextVectorization"
   ]
  },
  {
   "cell_type": "code",
   "execution_count": 5,
   "metadata": {
    "colab": {
     "base_uri": "https://localhost:8080/"
    },
    "id": "VUgiww4oQ75T",
    "outputId": "329d5de7-4197-45e3-e5a4-76acde4a9c5f"
   },
   "outputs": [
    {
     "name": "stdout",
     "output_type": "stream",
     "text": [
      "1 Physical GPUs, 1 Logical GPUs\n"
     ]
    }
   ],
   "source": [
    "# Get a list of GPU devices\n",
    "gpus = tf.config.list_physical_devices('GPU')\n",
    "\n",
    "if gpus:\n",
    "    try:\n",
    "        # Enable memory growth for all GPUs\n",
    "        for gpu in gpus:\n",
    "            tf.config.experimental.set_memory_growth(gpu, True)\n",
    "        \n",
    "        # After enabling memory growth, we need to make sure TensorFlow sees the updated configuration\n",
    "        logical_gpus = tf.config.list_logical_devices('GPU')\n",
    "        print(f\"{len(gpus)} Physical GPUs, {len(logical_gpus)} Logical GPUs\")\n",
    "    except RuntimeError as e:\n",
    "        # Memory growth must be set before GPUs have been initialized\n",
    "        print(f\"Error setting memory growth: {e}\")"
   ]
  },
  {
   "cell_type": "code",
   "execution_count": 6,
   "metadata": {
    "id": "irakMtGnaImf"
   },
   "outputs": [],
   "source": [
    "path = ''"
   ]
  },
  {
   "cell_type": "code",
   "execution_count": 7,
   "metadata": {
    "id": "nDl6_okDOUyY"
   },
   "outputs": [],
   "source": [
    "# from google.colab import drive\n",
    "# drive.mount('/content/drive')\n",
    "# path = '/content/drive/My Drive/M6_Fall2023e/'"
   ]
  },
  {
   "cell_type": "markdown",
   "metadata": {
    "id": "qv4r-dKnSRKz"
   },
   "source": [
    "## Functions for downloading text\n"
   ]
  },
  {
   "cell_type": "code",
   "execution_count": 8,
   "metadata": {
    "id": "xzLUaBa2Xmnb"
   },
   "outputs": [],
   "source": [
    "def preprocess_text(text):\n",
    "\n",
    "    text = text.replace(\"Project Gutenberg\", \"\")\n",
    "    text = text.replace(\"Gutenberg\", \"\")\n",
    "\n",
    "    # Remove carriage returns\n",
    "    text = text.replace(\"\\r\", \"\")\n",
    "\n",
    "    # fix quotes\n",
    "    text = text.replace(\"“\", \"\\\"\")\n",
    "    text = text.replace(\"”\", \"\\\"\")\n",
    "\n",
    "    # Replace any capital letter at the start of a word with ^ followed by the lowercase letter\n",
    "    text = re.sub(r\"(?<![a-zA-Z])([A-Z])\", lambda match: f\"^{match.group(0).lower()}\", text)\n",
    "\n",
    "    # Replace all other capital letters with lowercase\n",
    "    text = re.sub(r\"([A-Z])\", lambda match: f\"{match.group(0).lower()}\", text)\n",
    "\n",
    "    # Remove duplicate whitespace\n",
    "    text = re.sub(r\"\\s+\", \" \", text)\n",
    "    text = re.sub(r\"\\n+\", \"\\n\", text)\n",
    "    text = re.sub(r\"\\t+\", \"\\t\", text)\n",
    "\n",
    "    # Replace whitespace characters with special words\n",
    "    text = re.sub(r\"(\\t)\", r\" zztabzz \", text)\n",
    "    text = re.sub(r\"(\\n)\", r\" zznewlinezz \", text)\n",
    "    text = re.sub(r\"(\\s)\", r\" zzspacezz \", text)\n",
    "\n",
    "    # Split before and after punctuation\n",
    "    for punctuation in string.punctuation:\n",
    "        text = text.replace(punctuation, f\" {punctuation} \")\n",
    "\n",
    "    # Makes sure that any non utf-8 characters don't make it through\n",
    "    text = unicodedata.normalize('NFKD', text).encode('ascii', 'ignore').decode('utf-8')\n",
    "    \n",
    "    return text"
   ]
  },
  {
   "cell_type": "code",
   "execution_count": 9,
   "metadata": {
    "id": "nFKehxVF9AxD"
   },
   "outputs": [],
   "source": [
    "def postprocess_text(text):\n",
    "\n",
    "    # Replace special words with whitespace characters\n",
    "    text = text.replace(\"zztabzz\", \"\\t\")\n",
    "    text = text.replace(\"zznewlinezz\", \"\\n\")\n",
    "    text = text.replace(\"zzspacezz\", \" \")\n",
    "\n",
    "    # Remake capital letters at beginning of words\n",
    "    text = re.sub(r\"\\^([a-z])\", lambda match: f\"{match.group(1).upper()}\", text)\n",
    "\n",
    "    text = text.replace(\"^\", \"\")\n",
    "\n",
    "    return text"
   ]
  },
  {
   "cell_type": "markdown",
   "metadata": {
    "id": "Rtd9QyvUWqzi"
   },
   "source": [
    "# def getMyText():\n",
    "#   path_to_file = tf.keras.utils.get_file('austen.txt', 'https://raw.githubusercontent.com/byui-cse/cse450-course/master/data/austen/austen.txt')\n",
    "\n",
    "#   text = open(path_to_file, 'rb').read().decode(encoding='utf-8')\n",
    "\n",
    "#   # path_to_file = tf.keras.utils.get_file('903-0.txt', 'https://www.gutenberg.org/files/903/903-0.txt')\n",
    "#   # author_text += open(path_to_file, 'rb').read().decode(encoding='utf-8')[2999:-19194]\n",
    "#   # tf.io.gfile.remove(path_to_file)\n",
    "\n",
    "#   return preprocess_text(text)\n",
    "\n",
    "import os\n",
    "import tensorflow as tf\n",
    "\n",
    "def getMyText():\n",
    "    file_name = 'austen.txt'\n",
    "    file_url = 'https://raw.githubusercontent.com/byui-cse/cse450-course/master/data/austen/austen.txt'\n",
    "    local_dir = './data/'  # Directory to save the file\n",
    "    local_path = os.path.join(local_dir, file_name)\n",
    "\n",
    "    try:\n",
    "        # Ensure the directory exists\n",
    "        if not os.path.exists(local_dir):\n",
    "            os.makedirs(local_dir)\n",
    "\n",
    "        # Check if the file exists locally\n",
    "        if os.path.exists(local_path):\n",
    "            print(f\"File '{file_name}' found locally. Using it.\")\n",
    "        else:\n",
    "            print(f\"File '{file_name}' not found locally. Downloading it.\")\n",
    "            # Download the file\n",
    "            downloaded_path = tf.keras.utils.get_file(file_name, file_url)\n",
    "\n",
    "            # Save the downloaded file to the designated local directory\n",
    "            with open(downloaded_path, 'rb') as source_file:\n",
    "                with open(local_path, 'wb') as dest_file:\n",
    "                    dest_file.write(source_file.read())\n",
    "\n",
    "        # Read the file's contents\n",
    "        with open(local_path, 'rb') as file:\n",
    "            text = file.read().decode(encoding='utf-8')\n",
    "\n",
    "        return preprocess_text(text)\n",
    "\n",
    "    except Exception as e:\n",
    "        print(f\"An error occurred: {e}\")\n",
    "        return None\n",
    "\n"
   ]
  },
  {
   "cell_type": "code",
   "execution_count": 10,
   "metadata": {},
   "outputs": [],
   "source": [
    "# Multi Author text import\n",
    "\n",
    "import os\n",
    "import tensorflow as tf\n",
    "\n",
    "# Number of files to save\n",
    "files = 3\n",
    "\n",
    "def getMyText(count):\n",
    "    if(count == 1):\n",
    "        file_name = 'austen.txt'\n",
    "        file_url = 'https://raw.githubusercontent.com/byui-cse/cse450-course/master/data/austen/austen.txt'\n",
    "        local_dir = './data/'  # Directory to save the file\n",
    "        local_path = os.path.join(local_dir, file_name)\n",
    "\n",
    "        try:\n",
    "            # Ensure the directory exists\n",
    "            if not os.path.exists(local_dir):\n",
    "                os.makedirs(local_dir)\n",
    "\n",
    "            # Check if the file exists locally\n",
    "            if os.path.exists(local_path):\n",
    "                print(f\"File '{file_name}' found locally. Using it.\")\n",
    "            else:\n",
    "                print(f\"File '{file_name}' not found locally. Downloading it.\")\n",
    "                # Download the file\n",
    "                downloaded_path = tf.keras.utils.get_file(file_name, file_url)\n",
    "\n",
    "                # Save the downloaded file to the designated local directory\n",
    "                with open(downloaded_path, 'rb') as source_file:\n",
    "                    with open(local_path, 'wb') as dest_file:\n",
    "                        dest_file.write(source_file.read())\n",
    "\n",
    "            # Read the file's contents\n",
    "            with open(local_path, 'rb') as file:\n",
    "                text = file.read().decode(encoding='utf-8')\n",
    "\n",
    "            return preprocess_text(text)\n",
    "\n",
    "        except Exception as e:\n",
    "            print(f\"An error occurred: {e}\")\n",
    "            return None\n",
    "    if(count == 2):\n",
    "        file_name = 'shakespeare.txt'\n",
    "        file_url = 'https://www.gutenberg.org/cache/epub/100/pg100.txt'\n",
    "        local_dir = './data/'  # Directory to save the file\n",
    "        local_path = os.path.join(local_dir, file_name)\n",
    "\n",
    "        try:\n",
    "            # Ensure the directory exists\n",
    "            if not os.path.exists(local_dir):\n",
    "                os.makedirs(local_dir)\n",
    "\n",
    "            # Check if the file exists locally\n",
    "            if os.path.exists(local_path):\n",
    "                print(f\"File '{file_name}' found locally. Using it.\")\n",
    "            else:\n",
    "                print(f\"File '{file_name}' not found locally. Downloading it.\")\n",
    "                # Download the file\n",
    "                downloaded_path = tf.keras.utils.get_file(file_name, file_url)\n",
    "\n",
    "                # Save the downloaded file to the designated local directory\n",
    "                with open(downloaded_path, 'rb') as source_file:\n",
    "                    with open(local_path, 'wb') as dest_file:\n",
    "                        dest_file.write(source_file.read())\n",
    "\n",
    "            # Read the file's contents\n",
    "            with open(local_path, 'rb') as file:\n",
    "                text = file.read().decode(encoding='utf-8')\n",
    "\n",
    "            return preprocess_text(text)\n",
    "\n",
    "        except Exception as e:\n",
    "            print(f\"An error occurred: {e}\")\n",
    "            return None\n",
    "    if(count == 3):\n",
    "        file_name = 'marktwain.txt'\n",
    "        file_url = 'raw.githubusercontent.com/Allena9/CSE-450/main/Rnn/data/marktwain.txt'\n",
    "        local_dir = './data/'  # Directory to save the file\n",
    "        local_path = os.path.join(local_dir, file_name)\n",
    "\n",
    "        try:\n",
    "            # Ensure the directory exists\n",
    "            if not os.path.exists(local_dir):\n",
    "                os.makedirs(local_dir)\n",
    "\n",
    "            # Check if the file exists locally\n",
    "            if os.path.exists(local_path):\n",
    "                print(f\"File '{file_name}' found locally. Using it.\")\n",
    "            else:\n",
    "                print(f\"File '{file_name}' not found locally. Downloading it.\")\n",
    "                # Download the file\n",
    "                downloaded_path = tf.keras.utils.get_file(file_name, file_url)\n",
    "\n",
    "                # Save the downloaded file to the designated local directory\n",
    "                with open(downloaded_path, 'rb') as source_file:\n",
    "                    with open(local_path, 'wb') as dest_file:\n",
    "                        dest_file.write(source_file.read())\n",
    "\n",
    "            # Read the file's contents\n",
    "            with open(local_path, 'rb') as file:\n",
    "                text = file.read().decode(encoding='utf-8')\n",
    "\n",
    "            return preprocess_text(text)\n",
    "\n",
    "        except Exception as e:\n",
    "            print(f\"An error occurred: {e}\")\n",
    "            return None"
   ]
  },
  {
   "cell_type": "markdown",
   "metadata": {
    "colab": {
     "base_uri": "https://localhost:8080/",
     "height": 140
    },
    "id": "rofy7hJ1iHVm",
    "outputId": "c0eaceda-482d-47a6-c54a-10c40d7aeaea"
   },
   "source": [
    "getMyText()"
   ]
  },
  {
   "cell_type": "code",
   "execution_count": 11,
   "metadata": {
    "id": "gsCd-ihOU02C"
   },
   "outputs": [],
   "source": [
    "def getRandomText(numbooks = 1, verbose=False):\n",
    "  # Create a buffer to capture download output messages\n",
    "  download_log = io.StringIO()\n",
    "  # Initialize empty string to store text from books\n",
    "  text_random = ''\n",
    "  # Loop through the requested number of books\n",
    "  for b in range(numbooks):\n",
    "    # Flag to track whether we've found a suitable book\n",
    "    foundbook = False\n",
    "    # Keep trying until we find a valid book\n",
    "    while(foundbook == False):\n",
    "      # Generate random book ID between 100-60000\n",
    "      booknum = random.randint(100,60000)\n",
    "      if verbose:\n",
    "        print('Trying Book #: ',booknum)\n",
    "      # Randomly choose between two URL formats for Project Gutenberg\n",
    "      if random.random() > 0.5:\n",
    "        url = 'https://www.gutenberg.org/files/' + str(booknum) + '/' + str(booknum) + '-0.txt'\n",
    "        filename_temp = str(booknum) + '-0.txt'\n",
    "      else:\n",
    "        url = 'https://www.gutenberg.org/cache/epub/' + str(booknum) + '/pg' + str(booknum) + '.txt'\n",
    "        filename_temp = 'pg' + str(booknum) + '.txt'\n",
    "      if verbose:\n",
    "        print('Trying: ', url)\n",
    "      try:\n",
    "        # Download the file, either showing progress or hiding it based on verbose flag\n",
    "        if verbose:\n",
    "          path_to_file_temp = tf.keras.utils.get_file(filename_temp, url)\n",
    "        else:\n",
    "          with contextlib.redirect_stdout(download_log):\n",
    "            path_to_file_temp = tf.keras.utils.get_file(filename_temp, url)\n",
    "        # Read the downloaded file and decode as UTF-8\n",
    "        temptext = open(path_to_file_temp, 'rb').read().decode(encoding='utf-8')\n",
    "        # Delete the temporary file after reading its contents\n",
    "        tf.io.gfile.remove(path_to_file_temp)\n",
    "        # Check if the book is in English\n",
    "        if (temptext.find('Language: English') >= 0):\n",
    "          # Add slight randomness to the starting position\n",
    "          offset = random.randint(-20,20)\n",
    "          # Skip the header/preamble text (typically first 2000 chars)\n",
    "          header = 2000\n",
    "          # Target length for extracted text\n",
    "          total_length = 200000\n",
    "          # Amount to trim from the end of the book\n",
    "          chopoffend = 10000\n",
    "          # For long books: extract a fixed-size chunk\n",
    "          if len(temptext) > (header+total_length+offset+chopoffend):\n",
    "            foundbook = True\n",
    "            text_random += temptext[header+offset:header+total_length+offset]\n",
    "            #print(\"Yes: \" + str(booknum))\n",
    "            if verbose:\n",
    "              print('New size of dataset: ', len(text_random))\n",
    "          # For medium-length books: take most of the book minus header and footer\n",
    "          elif len(temptext) > (header+12000):\n",
    "            foundbook = True\n",
    "            text_random += temptext[header:-chopoffend]\n",
    "            #print(\"Yes (smaller): \" + str(booknum))\n",
    "            if verbose:\n",
    "              print('New size of dataset: ', len(text_random))\n",
    "          # Skip books that are too short\n",
    "          else:\n",
    "            if verbose:\n",
    "              print('Not long enough. Trying again...')\n",
    "            #print(\"No: \" + str(booknum) + \" too short\")\n",
    "        # Skip non-English books\n",
    "        else:\n",
    "          if verbose:\n",
    "            print('Not English. Trying again...')\n",
    "          #print(\"No: \" + str(booknum) + \" not English\")\n",
    "        # Clean up memory\n",
    "        del temptext\n",
    "      # Handle any exceptions during download/processing\n",
    "      except:\n",
    "        if verbose:\n",
    "          print('Not valid file. Trying again...')\n",
    "        #print(\"No: \" + str(booknum) + \" not valid\")\n",
    "        foundbook = False\n",
    "    if verbose:\n",
    "      print(\"Found \" + str(b+1) + \" books so far...\")\n",
    "  # Clean up memory\n",
    "  del download_log\n",
    "  # The following commented code appears to be for further processing that was replaced\n",
    "  #text_random = \"\".join(c for c in text_random if c in vocab)\n",
    "  #all_ids_random = ids_from_chars(tf.strings.unicode_split(text_random, 'UTF-8'))\n",
    "  #ids_dataset_random = tf.data.Dataset.from_tensor_slices(all_ids_random)\n",
    "  #sequences_random = ids_dataset_random.batch(seq_length+1, drop_remainder=True)\n",
    "  #dataset_random = sequences_random.map(split_input_target)\n",
    "  #dataset_random = (dataset_random.shuffle(BUFFER_SIZE).batch(BATCH_SIZE, drop_remainder=True).prefetch(tf.data.experimental.AUTOTUNE))\n",
    "  #return dataset_random\n",
    "  \n",
    "  # Pass the collected text to a preprocessing function and return the result\n",
    "  return preprocess_text(text_random)"
   ]
  },
  {
   "cell_type": "code",
   "execution_count": 12,
   "metadata": {
    "colab": {
     "base_uri": "https://localhost:8080/"
    },
    "id": "vjEF0LKxhljS",
    "outputId": "c0e93e56-0db7-40b3-db3c-1aae811aed42"
   },
   "outputs": [
    {
     "name": "stdout",
     "output_type": "stream",
     "text": [
      "File 'marktwain.txt' found locally. Using it.\n"
     ]
    }
   ],
   "source": [
    "if restart:\n",
    "  vocab_text = getMyText(files)"
   ]
  },
  {
   "cell_type": "markdown",
   "metadata": {
    "id": "CpFvtyF_g3jY"
   },
   "source": [
    "Make vocabulary (Adapted from TensorFlow word embedding tutorial)\n",
    "\n",
    "---\n",
    "\n"
   ]
  },
  {
   "cell_type": "code",
   "execution_count": 13,
   "metadata": {
    "id": "F8E6Q6dkMEpd"
   },
   "outputs": [],
   "source": [
    "# Vocabulary size and number of words in a sequence.\n",
    "vocab_size = 12288\n",
    "sequence_length = 128"
   ]
  },
  {
   "cell_type": "code",
   "execution_count": 14,
   "metadata": {
    "id": "AWXUqLQ6g3KB"
   },
   "outputs": [],
   "source": [
    "def custom_standardization(input_string):\n",
    "    # Lowercase the text\n",
    "    lowercase = tf.strings.lower(input_string)\n",
    "    \n",
    "    # Handle common punctuation marks one by one\n",
    "    # This avoids regex escaping issues\n",
    "    lowercase = tf.strings.regex_replace(lowercase, r'\\.', ' . ')  # Period\n",
    "    lowercase = tf.strings.regex_replace(lowercase, r',', ' , ')   # Comma\n",
    "    lowercase = tf.strings.regex_replace(lowercase, r'!', ' ! ')   # Exclamation\n",
    "    lowercase = tf.strings.regex_replace(lowercase, r'\\?', ' ? ')  # Question mark\n",
    "    lowercase = tf.strings.regex_replace(lowercase, r';', ' ; ')   # Semicolon\n",
    "    lowercase = tf.strings.regex_replace(lowercase, r':', ' : ')   # Colon\n",
    "    lowercase = tf.strings.regex_replace(lowercase, r'\\(', ' ( ')  # Open parenthesis\n",
    "    lowercase = tf.strings.regex_replace(lowercase, r'\\)', ' ) ')  # Close parenthesis\n",
    "    lowercase = tf.strings.regex_replace(lowercase, r'\\[', ' [ ')  # Open bracket\n",
    "    lowercase = tf.strings.regex_replace(lowercase, r'\\]', ' ] ')  # Close bracket\n",
    "    lowercase = tf.strings.regex_replace(lowercase, r'\\{', ' { ')  # Open brace\n",
    "    lowercase = tf.strings.regex_replace(lowercase, r'\\}', ' } ')  # Close brace\n",
    "    lowercase = tf.strings.regex_replace(lowercase, r'\"', ' \" ')   # Double quote\n",
    "    lowercase = tf.strings.regex_replace(lowercase, r\"'\", \" ' \")   # Single quote\n",
    "    lowercase = tf.strings.regex_replace(lowercase, r'-', ' - ')   # Hyphen\n",
    "    lowercase = tf.strings.regex_replace(lowercase, r'\\*', '')   # Hyphen\n",
    "    \n",
    "    # Remove extra whitespace\n",
    "    return tf.strings.regex_replace(lowercase, r'\\s+', ' ')\n",
    "\n",
    "if restart:\n",
    "  # Use the text vectorization layer to normalize, split, and map strings to\n",
    "  # integers. Note that the layer uses the custom standardization defined above.\n",
    "  # Set maximum_sequence length as all samples are not of the same length.\n",
    "  vectorize_layer = TextVectorization(\n",
    "      standardize=custom_standardization,\n",
    "      split='whitespace',\n",
    "      max_tokens=vocab_size,\n",
    "      output_mode='int',\n",
    "      #output_sequence_length=sequence_length\n",
    "      )"
   ]
  },
  {
   "cell_type": "code",
   "execution_count": 15,
   "metadata": {
    "id": "zJfr5w1bTWiJ"
   },
   "outputs": [],
   "source": [
    "if restart:\n",
    "  # Make a text-only dataset (no labels) and call adapt to build the vocabulary.\n",
    "  vectorize_layer.adapt([vocab_text])"
   ]
  },
  {
   "cell_type": "code",
   "execution_count": 16,
   "metadata": {
    "id": "PmaoiyvF1Ilm"
   },
   "outputs": [],
   "source": [
    "if restart:\n",
    "  vocabulary = vectorize_layer.get_vocabulary()"
   ]
  },
  {
   "cell_type": "markdown",
   "metadata": {
    "id": "h7ULNtM_8nYn"
   },
   "source": [
    "Save Vocabulary"
   ]
  },
  {
   "cell_type": "code",
   "execution_count": 17,
   "metadata": {
    "id": "G1hjxv447INt"
   },
   "outputs": [],
   "source": [
    "if restart:\n",
    "  with open(path + \"vocabulary.txt\", \"w\") as file:\n",
    "    for word in vocabulary:\n",
    "        file.write(word + \"\\n\")"
   ]
  },
  {
   "cell_type": "markdown",
   "metadata": {
    "id": "h7qn5MjC8p0_"
   },
   "source": [
    "Load Saved Vocabulary"
   ]
  },
  {
   "cell_type": "code",
   "execution_count": 18,
   "metadata": {
    "id": "TLbSoqUP8Pxu"
   },
   "outputs": [],
   "source": [
    "if restart == False:\n",
    "  with open(path + \"vocabulary.txt\", \"r\") as file:\n",
    "      vocabulary = [word.strip() for word in file.readlines()]\n",
    "      vocabulary = vocabulary\n",
    "\n",
    "  vectorize_layer = TextVectorization(\n",
    "      vocabulary=vocabulary,\n",
    "      standardize='lower',\n",
    "      split='whitespace',\n",
    "      max_tokens=vocab_size,\n",
    "      output_mode='int',\n",
    "      #output_sequence_length=sequence_length\n",
    "      )"
   ]
  },
  {
   "cell_type": "code",
   "execution_count": 19,
   "metadata": {
    "colab": {
     "base_uri": "https://localhost:8080/"
    },
    "id": "FidGlurb1iD3",
    "outputId": "50b05e9e-68b7-4cda-a427-b879a3e3a5b9"
   },
   "outputs": [
    {
     "name": "stdout",
     "output_type": "stream",
     "text": [
      "['', '[UNK]', 'zzspacezz', '^', ',', 'the', 'and', '.', 'a', 'to', 'of', '-', '\"', 'i', 'it', 'was', 'in', 'he', ';', 'that']\n",
      "['toofor', 'tooevery', 'tooeating', 'tooand', 'tooa', 'tontine', 'toniest', 'tongs', 'tones', 'tomyou', 'tomthey', 'tomthats', 'tomtake', 'tomswhy', 'tomoh', 'tomnow', 'tomnobody', 'tommy', 'tomleast', 'tomit']\n"
     ]
    }
   ],
   "source": [
    "print(vocabulary[:20])\n",
    "print(vocabulary[-20:])"
   ]
  },
  {
   "cell_type": "markdown",
   "metadata": {
    "id": "LovypAGk91Yp"
   },
   "source": [
    "Turn text into a dataset"
   ]
  },
  {
   "cell_type": "code",
   "execution_count": 20,
   "metadata": {
    "id": "Mnp0huUX93Wi"
   },
   "outputs": [],
   "source": [
    "# This function will generate our sequence pairs:\n",
    "def split_input_target(sequence):\n",
    "    input_ids = sequence[:-1]\n",
    "    target_ids = sequence[1:]\n",
    "    return input_ids, target_ids\n",
    "\n",
    "# This function will create the dataset\n",
    "def text_to_dataset(text):\n",
    "  all_ids = vectorize_layer(text)\n",
    "  ids_dataset = tf.data.Dataset.from_tensor_slices(all_ids)\n",
    "  del all_ids\n",
    "  sequences = ids_dataset.batch(sequence_length+1, drop_remainder=True)\n",
    "  del ids_dataset\n",
    "\n",
    "  # Call the function for every sequence in our list to create a new dataset\n",
    "  # of input->target pairs\n",
    "  dataset = sequences.map(split_input_target)\n",
    "  del sequences\n",
    "\n",
    "  # shuffle\n",
    "\n",
    "\n",
    "  return dataset"
   ]
  },
  {
   "cell_type": "markdown",
   "metadata": {
    "id": "afRybxef_QHi"
   },
   "source": [
    "Test on vocab text"
   ]
  },
  {
   "cell_type": "code",
   "execution_count": 21,
   "metadata": {
    "id": "0tBa6ttN_Ufz"
   },
   "outputs": [],
   "source": [
    "if restart:\n",
    "  vocab_ds = text_to_dataset(vocab_text)"
   ]
  },
  {
   "cell_type": "code",
   "execution_count": 22,
   "metadata": {
    "id": "vq191mRgWv2w"
   },
   "outputs": [],
   "source": [
    "def text_from_ids(ids):\n",
    "  text = ''.join([vocabulary[index] for index in ids])\n",
    "  return postprocess_text(text)\n",
    "\n",
    "vocabulary_adjusted = vocabulary\n",
    "vocabulary_adjusted[0] = '[UNK]'\n",
    "vocabulary_adjusted[1] = ''\n",
    "\n",
    "words_from_ids = StringLookup(vocabulary=vocabulary_adjusted, invert=True)"
   ]
  },
  {
   "cell_type": "code",
   "execution_count": 23,
   "metadata": {
    "colab": {
     "base_uri": "https://localhost:8080/"
    },
    "id": "tDqaTHXFAEBD",
    "outputId": "7dc76f61-3d65-4d2a-c8ca-6ff765949c24"
   },
   "outputs": [
    {
     "name": "stdout",
     "output_type": "stream",
     "text": [
      "Input: \n",
      "tf.Tensor(\n",
      "[    3   257     2     3    13     7     2     3     5     2  2859     2\n",
      "    10     2     5     2     3   311     2     6     2     5     2     3\n",
      "  2575     7     2     3    16     2     5     2  1063     2   433     2\n",
      "    10     2     3   759     4     2    27     2     8     2   620     2\n",
      " 11069     2   122     2    16     2     5     2   594     2   624     2\n",
      "    10     2     5     2  7198     2  1674     4     2     8     2   165\n",
      "     2    15     2   723     2     9     2     8     2   195     2   449\n",
      "     2    10     2     5     2   260     2    10     2     3   517     4\n",
      "     2   120     2    99     2    44     2   189     2    29     7     2\n",
      "     3    27     2     5     2   198     2   122     2   164     2     3\n",
      "   962     2   443     2    15     2   723     2], shape=(128,), dtype=int64)\n",
      "Chapter I. The birth of the Prince and the Pauper. In the ancient city of London, on a certain autumn day in the second quarter of the sixteenth century, a boy was born to a poor family of the name of Canty, who did not want him. On the same day another English child was born \n",
      "tf.Tensor(\n",
      "[b'^' b'chapter' b'zzspacezz' b'^' b'i' b'.' b'zzspacezz' b'^' b'the'\n",
      " b'zzspacezz' b'birth' b'zzspacezz' b'of' b'zzspacezz' b'the' b'zzspacezz'\n",
      " b'^' b'prince' b'zzspacezz' b'and' b'zzspacezz' b'the' b'zzspacezz' b'^'\n",
      " b'pauper' b'.' b'zzspacezz' b'^' b'in' b'zzspacezz' b'the' b'zzspacezz'\n",
      " b'ancient' b'zzspacezz' b'city' b'zzspacezz' b'of' b'zzspacezz' b'^'\n",
      " b'london' b',' b'zzspacezz' b'on' b'zzspacezz' b'a' b'zzspacezz'\n",
      " b'certain' b'zzspacezz' b'autumn' b'zzspacezz' b'day' b'zzspacezz' b'in'\n",
      " b'zzspacezz' b'the' b'zzspacezz' b'second' b'zzspacezz' b'quarter'\n",
      " b'zzspacezz' b'of' b'zzspacezz' b'the' b'zzspacezz' b'sixteenth'\n",
      " b'zzspacezz' b'century' b',' b'zzspacezz' b'a' b'zzspacezz' b'boy'\n",
      " b'zzspacezz' b'was' b'zzspacezz' b'born' b'zzspacezz' b'to' b'zzspacezz'\n",
      " b'a' b'zzspacezz' b'poor' b'zzspacezz' b'family' b'zzspacezz' b'of'\n",
      " b'zzspacezz' b'the' b'zzspacezz' b'name' b'zzspacezz' b'of' b'zzspacezz'\n",
      " b'^' b'canty' b',' b'zzspacezz' b'who' b'zzspacezz' b'did' b'zzspacezz'\n",
      " b'not' b'zzspacezz' b'want' b'zzspacezz' b'him' b'.' b'zzspacezz' b'^'\n",
      " b'on' b'zzspacezz' b'the' b'zzspacezz' b'same' b'zzspacezz' b'day'\n",
      " b'zzspacezz' b'another' b'zzspacezz' b'^' b'english' b'zzspacezz'\n",
      " b'child' b'zzspacezz' b'was' b'zzspacezz' b'born' b'zzspacezz'], shape=(128,), dtype=string)\n",
      "Target: \n",
      "tf.Tensor(\n",
      "[  257     2     3    13     7     2     3     5     2  2859     2    10\n",
      "     2     5     2     3   311     2     6     2     5     2     3  2575\n",
      "     7     2     3    16     2     5     2  1063     2   433     2    10\n",
      "     2     3   759     4     2    27     2     8     2   620     2 11069\n",
      "     2   122     2    16     2     5     2   594     2   624     2    10\n",
      "     2     5     2  7198     2  1674     4     2     8     2   165     2\n",
      "    15     2   723     2     9     2     8     2   195     2   449     2\n",
      "    10     2     5     2   260     2    10     2     3   517     4     2\n",
      "   120     2    99     2    44     2   189     2    29     7     2     3\n",
      "    27     2     5     2   198     2   122     2   164     2     3   962\n",
      "     2   443     2    15     2   723     2     9], shape=(128,), dtype=int64)\n",
      "chapter I. The birth of the Prince and the Pauper. In the ancient city of London, on a certain autumn day in the second quarter of the sixteenth century, a boy was born to a poor family of the name of Canty, who did not want him. On the same day another English child was born to\n"
     ]
    }
   ],
   "source": [
    "if restart:\n",
    "  for input_example, target_example in vocab_ds.take(1):\n",
    "    print(\"Input: \")\n",
    "    print(input_example)\n",
    "    print(text_from_ids(input_example))\n",
    "    print(words_from_ids(input_example))\n",
    "    print(\"Target: \")\n",
    "    print(target_example)\n",
    "    print(text_from_ids(target_example))"
   ]
  },
  {
   "cell_type": "code",
   "execution_count": 24,
   "metadata": {
    "id": "Rp402vgrS54t"
   },
   "outputs": [],
   "source": [
    "BATCH_SIZE = 64\n",
    "BUFFER_SIZE = 10000\n",
    "\n",
    "def setup_dataset(dataset):\n",
    "  dataset = (\n",
    "    dataset\n",
    "    .shuffle(BUFFER_SIZE)\n",
    "    .batch(BATCH_SIZE, drop_remainder=True)\n",
    "    .prefetch(tf.data.experimental.AUTOTUNE))\n",
    "  return dataset\n"
   ]
  },
  {
   "cell_type": "code",
   "execution_count": 25,
   "metadata": {
    "id": "0LdoMfT7T8WN"
   },
   "outputs": [],
   "source": [
    "if restart:\n",
    "  vocab_ds = setup_dataset(vocab_ds)"
   ]
  },
  {
   "cell_type": "markdown",
   "metadata": {
    "id": "0VQ-KjEeZMzd"
   },
   "source": [
    "## III. Build the model\n",
    "\n",
    "Next, we'll build our model. Up until this point, you've been using the Keras symbolic, or imperative API for creating your models. Doing something like:\n",
    "\n",
    "    model = tf.keras.models.Sequentla()\n",
    "    model.add(tf.keras.layers.Dense(80, activation='relu))\n",
    "    etc...\n",
    "\n",
    "However, tensorflow has another way to build models called the Functional API, which gives us a lot more control over what happens inside the model. You can read more about [the differences and when to use each here](https://blog.tensorflow.org/2019/01/what-are-symbolic-and-imperative-apis.html).\n",
    "\n",
    "We'll use the functional API for our RNN in this example. This will involve defining our model as a custom subclass of `tf.keras.Model`.\n",
    "\n",
    "If you're not familiar with classes in python, you might want to review [this quick tutorial](https://www.w3schools.com/python/python_classes.asp), as well as [this one on class inheritance](https://www.w3schools.com/python/python_inheritance.asp).\n",
    "\n",
    "Using a functional model is important for our situation because we're not just training it to predict a single character for a single sequence, but as we make predictions with it, we need it to remember those predictions as use that memory as it makes new predictions.\n"
   ]
  },
  {
   "cell_type": "code",
   "execution_count": 26,
   "metadata": {
    "id": "Fj4uh9y-Y9mx"
   },
   "outputs": [],
   "source": [
    "# Create our custom model. Given a sequence of characters, this\n",
    "# model's job is to predict what character should come next.\n",
    "class AustenTextModel(tf.keras.Model):\n",
    "\n",
    "  # This is our class constructor method, it will be executed when\n",
    "  # we first create an instance of the class\n",
    "  def __init__(self, vocab_size, embedding_dim, rnn_units):\n",
    "    super().__init__()\n",
    "\n",
    "    # Our model will have three layers:\n",
    "\n",
    "    # 1. An embedding layer that handles the encoding of our vocabulary into\n",
    "    #    a vector of values suitable for a neural network\n",
    "    self.embedding = tf.keras.layers.Embedding(vocab_size, embedding_dim)\n",
    "\n",
    "    # 2. A GRU layer that handles the \"memory\" aspects of our RNN. If you're\n",
    "    #    wondering why we use GRU instead of LSTM, and whether LSTM is better,\n",
    "    #    take a look at this article: https://datascience.stackexchange.com/questions/14581/when-to-use-gru-over-lstm\n",
    "    #    then consider trying out LSTM instead (or in addition to!)\n",
    "    #self.gru = tf.keras.layers.GRU(rnn_units, return_sequences=True, return_state=True)\n",
    "    self.lstm1 = tf.keras.layers.LSTM(rnn_units, return_sequences=True, return_state=True)\n",
    "    self.lstm2 = tf.keras.layers.LSTM(rnn_units, return_sequences=True, return_state=True)\n",
    "    self.lstm3 = tf.keras.layers.LSTM(rnn_units, return_sequences=True, return_state=True)\n",
    "    #self.lstm4 = tf.keras.layers.LSTM(rnn_units, return_sequences=True, return_state=True)\n",
    "\n",
    "\n",
    "    self.hidden1 = tf.keras.layers.Dense(embedding_dim*64, activation='relu')\n",
    "    self.hidden2 = tf.keras.layers.Dense(embedding_dim*16, activation='relu')\n",
    "    #self.hidden3 = tf.keras.layers.Dense(embedding_dim*4, activation='relu')\n",
    "\n",
    "    # 3. Our output layer that will give us a set of probabilities for each\n",
    "    #    character in our vocabulary.\n",
    "    self.dense = tf.keras.layers.Dense(vocab_size)\n",
    "\n",
    "  # This function will be executed for each epoch of our training. Here\n",
    "  # we will manually feed information from one layer of our network to the\n",
    "  # next.\n",
    "  def call(self, inputs, states=None, return_state=False, training=False):\n",
    "    x = inputs\n",
    "\n",
    "    # 1. Feed the inputs into the embedding layer, and tell it if we are\n",
    "    #    training or predicting\n",
    "    x = self.embedding(x, training=training)\n",
    "\n",
    "    # 2. If we don't have any state in memory yet, get the initial random state\n",
    "    #    from our GRUI layer.\n",
    "    batch_size = tf.shape(inputs)[0]\n",
    "\n",
    "    if states is None:\n",
    "      states1 = [tf.zeros([batch_size, self.lstm1.units]), tf.zeros([batch_size, self.lstm1.units])]\n",
    "      states2 = [tf.zeros([batch_size, self.lstm2.units]), tf.zeros([batch_size, self.lstm2.units])]\n",
    "      states3 = [tf.zeros([batch_size, self.lstm3.units]), tf.zeros([batch_size, self.lstm3.units])]\n",
    "      #states4 = [tf.zeros([batch_size, self.lstm4.units]), tf.zeros([batch_size, self.lstm4.units])]\n",
    "    else:\n",
    "      states1 = states[0]\n",
    "      states2 = states[1]\n",
    "      states3 = states[2]\n",
    "      #states4 = states[3]\n",
    "    # 3. Now, feed the vectorized input along with the current state of memory\n",
    "    #    into the gru layer.\n",
    "    x, state_h_1, state_c_1 = self.lstm1(x, initial_state=states1, training=training)\n",
    "    states_out_1 = [state_h_1,state_c_1]\n",
    "\n",
    "    x, state_h_2, state_c_2 = self.lstm2(x, initial_state=states2, training=training)\n",
    "    states_out_2 = [state_h_2,state_c_2]\n",
    "\n",
    "    x, state_h_3, state_c_3 = self.lstm3(x, initial_state=states3, training=training)\n",
    "    states_out_3 = [state_h_3,state_c_3]\n",
    "\n",
    "    #x, state_h_4, state_c_4 = self.lstm4(x, initial_state=states4, training=training)\n",
    "    #states_out_4 = [state_h_4,state_c_4]\n",
    "\n",
    "    states_out = [states_out_1, states_out_2, states_out_3]#, states_out_4]\n",
    "    #states_out = [states_out_1, states_out_2]\n",
    "\n",
    "    x = self.hidden1(x,training=training)\n",
    "    x = self.hidden2(x,training=training)\n",
    "    #x = self.hidden3(x,training=training)\n",
    "    # 4. Finally, pass the results on to the dense layer\n",
    "    x = self.dense(x, training=training)\n",
    "\n",
    "    # 5. Return the results\n",
    "    if return_state:\n",
    "      return x, states_out\n",
    "    else:\n",
    "      return x"
   ]
  },
  {
   "cell_type": "code",
   "execution_count": 27,
   "metadata": {
    "id": "NGm9o_J8Tq2F"
   },
   "outputs": [],
   "source": [
    "if restart:\n",
    "  dataset = vocab_ds\n",
    "  del vocab_text\n",
    "  del vocab_ds\n",
    "else:\n",
    "  new_text = getRandomText(numbooks = 10)\n",
    "  dataset = text_to_dataset(new_text)\n",
    "  del new_text\n",
    "  dataset = setup_dataset(dataset)"
   ]
  },
  {
   "cell_type": "code",
   "execution_count": 28,
   "metadata": {
    "id": "UA2C6pxZc4De"
   },
   "outputs": [],
   "source": [
    "# Create an instance of our model\n",
    "#vocab_size=len(ids_from_chars.get_vocabulary())\n",
    "embedding_dim = 128\n",
    "rnn_units = 512\n",
    "\n",
    "model = AustenTextModel(vocab_size, embedding_dim, rnn_units)"
   ]
  },
  {
   "cell_type": "code",
   "execution_count": 29,
   "metadata": {
    "colab": {
     "base_uri": "https://localhost:8080/"
    },
    "id": "C67kN7YAdfSf",
    "outputId": "87af41fd-6cbe-4d7b-9ff9-2cdce14a280d"
   },
   "outputs": [
    {
     "name": "stdout",
     "output_type": "stream",
     "text": [
      "(64, 128, 12288) # (batch_size, sequence_length, vocab_size)\n"
     ]
    }
   ],
   "source": [
    "# Verify the output of our model is correct by running one sample through\n",
    "# This will also compile the model for us. This step will take a bit.\n",
    "for input_example_batch, target_example_batch in dataset.take(1):\n",
    "    example_batch_predictions = model(input_example_batch)\n",
    "    print(example_batch_predictions.shape, \"# (batch_size, sequence_length, vocab_size)\")\n"
   ]
  },
  {
   "cell_type": "code",
   "execution_count": 30,
   "metadata": {
    "colab": {
     "base_uri": "https://localhost:8080/",
     "height": 425
    },
    "id": "qJGL8gCWdsiu",
    "outputId": "fe8a8959-c379-4369-83dc-22dba8d4e3d0"
   },
   "outputs": [
    {
     "name": "stdout",
     "output_type": "stream",
     "text": [
      "Model: \"austen_text_model\"\n",
      "_________________________________________________________________\n",
      "Layer (type)                 Output Shape              Param #   \n",
      "=================================================================\n",
      "embedding (Embedding)        multiple                  1572864   \n",
      "_________________________________________________________________\n",
      "lstm (LSTM)                  multiple                  1312768   \n",
      "_________________________________________________________________\n",
      "lstm_1 (LSTM)                multiple                  2099200   \n",
      "_________________________________________________________________\n",
      "lstm_2 (LSTM)                multiple                  2099200   \n",
      "_________________________________________________________________\n",
      "dense (Dense)                multiple                  4202496   \n",
      "_________________________________________________________________\n",
      "dense_1 (Dense)              multiple                  16779264  \n",
      "_________________________________________________________________\n",
      "dense_2 (Dense)              multiple                  25178112  \n",
      "=================================================================\n",
      "Total params: 53,243,904\n",
      "Trainable params: 53,243,904\n",
      "Non-trainable params: 0\n",
      "_________________________________________________________________\n"
     ]
    }
   ],
   "source": [
    "# Now let's view the model summary\n",
    "model.summary()"
   ]
  },
  {
   "cell_type": "code",
   "execution_count": 31,
   "metadata": {
    "id": "UDbtrI9tc2NH"
   },
   "outputs": [],
   "source": [
    "# Here's the code we'll use to sample for us. It has some extra steps to apply\n",
    "# the temperature to the distribution, and to make sure we don't get empty\n",
    "# characters in our text. Most importantly, it will keep track of our model\n",
    "# state for us.\n",
    "\n",
    "class OneStep(tf.keras.Model):\n",
    "  def __init__(self, model, vectorize_layer, vocabulary, temperature=1):\n",
    "    super().__init__()\n",
    "    self.temperature=temperature\n",
    "    self.model = model\n",
    "    self.vectorize_layer = vectorize_layer\n",
    "    self.vocabulary = vocabulary\n",
    "    #print(\"initialized\")\n",
    "\n",
    "    # Create a mask to prevent \"\" or \"[UNK]\" from being generated.\n",
    "    skip_ids = StringLookup(vocabulary=list(vocabulary))(['', '[UNK]'])[:, None]\n",
    "    #print(skip_ids)\n",
    "    #print(\"3\")\n",
    "    sparse_mask = tf.SparseTensor(\n",
    "        # Put a -inf at each bad index.\n",
    "        values=[-float('inf')]*len(skip_ids),\n",
    "        indices = skip_ids,\n",
    "        # Match the shape to the vocabulary\n",
    "        dense_shape=[len(vocabulary)])\n",
    "    #print(\"4\")\n",
    "    self.prediction_mask = tf.sparse.to_dense(sparse_mask,validate_indices=False)\n",
    "    #print(\"5\")\n",
    "\n",
    "  @tf.function\n",
    "  def generate_one_step(self, inputs, states=None):\n",
    "    # Convert strings to token IDs.\n",
    "    #input_chars = tf.strings.unicode_split(inputs, 'UTF-8')\n",
    "    input_ids = self.vectorize_layer(inputs)\n",
    "    #print(input_ids)\n",
    "\n",
    "    # Run the model.\n",
    "    # predicted_logits.shape is [batch, char, next_char_logits]\n",
    "    predicted_logits, states =  self.model(inputs=input_ids, states=states,\n",
    "                                          return_state=True)\n",
    "    del input_ids\n",
    "    # Only use the last prediction.\n",
    "    predicted_logits = predicted_logits[:, -1, :]\n",
    "    predicted_logits = predicted_logits/self.temperature\n",
    "\n",
    "    # Apply the prediction mask: prevent \"\" or \"[UNK]\" from being generated.\n",
    "    predicted_logits = predicted_logits + self.prediction_mask\n",
    "\n",
    "    # Sample the output logits to generate token IDs.\n",
    "    predicted_ids = tf.random.categorical(predicted_logits, num_samples=1)\n",
    "    del predicted_logits\n",
    "    predicted_ids = tf.squeeze(predicted_ids, axis=-1)\n",
    "\n",
    "    #print(predicted_ids[0])\n",
    "\n",
    "    # Return the characters and model state.\n",
    "    return words_from_ids(predicted_ids), states\n"
   ]
  },
  {
   "cell_type": "code",
   "execution_count": 32,
   "metadata": {
    "id": "P3WQoFaE7Ol2"
   },
   "outputs": [],
   "source": [
    "def produce_sample(model, vectorize_layer, vocabulary, temp, epoch, prompt):\n",
    "  # Create an instance of the character generator\n",
    "  #print(\"entered\")\n",
    "  one_step_model = OneStep(model, vectorize_layer, vocabulary, temp)\n",
    "  #print(\"rand one step\")\n",
    "  # Now, let's generate a 1000 character chapter by giving our model \"Chapter 1\"\n",
    "  # as its starting text\n",
    "  states = None\n",
    "  next_char = tf.constant([preprocess_text(prompt)])\n",
    "  result = [tf.constant([prompt])]\n",
    "\n",
    "  for n in range(1000):\n",
    "    next_char, states = one_step_model.generate_one_step(next_char, states=states)\n",
    "    #print(next_char)\n",
    "    result.append(next_char)\n",
    "    #print(result)\n",
    "\n",
    "  result = tf.strings.join(result)\n",
    "  #print(result)\n",
    "\n",
    "  # Print the results formatted.\n",
    "  #print('Temp: ' + str(temp) + '\\n')\n",
    "  print(postprocess_text(result[0].numpy().decode('utf-8')))\n",
    "  #print('\\n\\n')\n",
    "  print('Epoch: ' + str(epoch) + '\\n', file=open(path + 'tree.txt', 'a'))\n",
    "  print('Temp: ' + str(temp) + '\\n', file=open(path + 'tree.txt', 'a'))\n",
    "  print(postprocess_text(result[0].numpy().decode('utf-8')), file=open(path + 'tree.txt', 'a'))\n",
    "  print('\\n\\n', file=open(path + 'tree.txt', 'a'))\n",
    "  del states\n",
    "  del next_char\n",
    "  del result"
   ]
  },
  {
   "cell_type": "markdown",
   "metadata": {
    "id": "wTDe5m4baEqo"
   },
   "source": [
    "## IV. Train the model\n",
    "\n",
    "For our purposes, we'll be using [categorical cross entropy](https://machinelearningmastery.com/cross-entropy-for-machine-learning/) as our loss function*. Also, our model will be outputting [\"logits\" rather than normalized probabilities](https://stackoverflow.com/questions/41455101/what-is-the-meaning-of-the-word-logits-in-tensorflow), because we'll be doing further transformations on the output later.\n",
    "\n",
    "\n",
    "\\* Note that since our model deals with integer encoding rather than one-hot encoding, we'll specifically be using [sparse categorical cross entropy](https://stats.stackexchange.com/questions/326065/cross-entropy-vs-sparse-cross-entropy-when-to-use-one-over-the-other)."
   ]
  },
  {
   "cell_type": "code",
   "execution_count": 33,
   "metadata": {
    "id": "mOP5s0SmIhUO"
   },
   "outputs": [
    {
     "name": "stdout",
     "output_type": "stream",
     "text": [
      "File 'marktwain.txt' found locally. Using it.\n"
     ]
    }
   ],
   "source": [
    "sherlock_text = getMyText(files)"
   ]
  },
  {
   "cell_type": "markdown",
   "metadata": {
    "id": "xSk7HBJe_RZi"
   },
   "source": [
    "if restart == False:\n",
    "  model.load_weights(path + \"lstm_gru_SH_modelweights_fall2023-random_urls.h5\")"
   ]
  },
  {
   "cell_type": "code",
   "execution_count": 34,
   "metadata": {
    "colab": {
     "base_uri": "https://localhost:8080/"
    },
    "id": "7vOxc7CkaGQB",
    "outputId": "5524a5d1-2723-421e-9d05-de13ff75ab0d"
   },
   "outputs": [
    {
     "name": "stdout",
     "output_type": "stream",
     "text": [
      "epoch:  0\n",
      "178/178 [==============================] - 22s 108ms/step - loss: 3.7308\n",
      "finished training...\n",
      "epoch:  1\n",
      "161/161 [==============================] - 18s 108ms/step - loss: 2.7343\n",
      "finished training...\n",
      "epoch:  2\n",
      "146/146 [==============================] - 16s 108ms/step - loss: 2.5627\n",
      "finished training...\n",
      "epoch:  3\n",
      "165/165 [==============================] - 19s 108ms/step - loss: 2.5426\n",
      "finished training...\n",
      "epoch:  4\n",
      "174/174 [==============================] - 20s 109ms/step - loss: 2.4797\n",
      "finished training...\n",
      "epoch:  5\n",
      "150/150 [==============================] - 17s 109ms/step - loss: 2.4013\n",
      "finished training...\n",
      "epoch:  6\n",
      "179/179 [==============================] - 20s 109ms/step - loss: 2.3725\n",
      "finished training...\n",
      "epoch:  7\n",
      "150/150 [==============================] - 17s 107ms/step - loss: 2.3412\n",
      "finished training...\n",
      "epoch:  8\n",
      "158/158 [==============================] - 18s 109ms/step - loss: 2.3148\n",
      "finished training...\n",
      "epoch:  9\n",
      "159/159 [==============================] - 18s 107ms/step - loss: 2.3512\n",
      "finished training...\n",
      "epoch:  10\n",
      "157/157 [==============================] - 17s 107ms/step - loss: 2.3085\n",
      "finished training...\n",
      "epoch:  11\n",
      "161/161 [==============================] - 18s 109ms/step - loss: 2.2548\n",
      "finished training...\n",
      "epoch:  12\n",
      "179/179 [==============================] - 20s 109ms/step - loss: 2.2432\n",
      "finished training...\n",
      "epoch:  13\n",
      "166/166 [==============================] - 18s 107ms/step - loss: 2.2446\n",
      "finished training...\n",
      "epoch:  14\n",
      "124/124 [==============================] - 14s 106ms/step - loss: 2.1844\n",
      "finished training...\n",
      "epoch:  15\n",
      "169/169 [==============================] - 19s 107ms/step - loss: 2.2753\n",
      "finished training...\n",
      "epoch:  16\n",
      "154/154 [==============================] - 17s 107ms/step - loss: 2.0222\n",
      "finished training...\n",
      "epoch:  17\n",
      "169/169 [==============================] - 19s 107ms/step - loss: 2.1840\n",
      "finished training...\n",
      "epoch:  18\n",
      "157/157 [==============================] - 18s 108ms/step - loss: 2.1438\n",
      "finished training...\n",
      "epoch:  19\n",
      "160/160 [==============================] - 18s 106ms/step - loss: 2.1981\n",
      "finished training...\n",
      "epoch:  20\n",
      "119/119 [==============================] - 13s 107ms/step - loss: 2.4078\n",
      "finished training...\n",
      "epoch:  21\n",
      "110/110 [==============================] - 12s 107ms/step - loss: 2.1816\n",
      "finished training...\n",
      "The world seemed like such a peaceful place until the magic tree was discovered in London. The Mississippi is a mile off from St. Louis to New Orleans and New Orleans. There is no part of the river in a town of the town, and the river is a mile below it. The water is in the middle of the river and the lower end of the river and the river between the river and the Mississippi and Missouri River River and Cairo and New Orleans. The water is about three feet high and wide, and is whitewashed and used in the river. The river is a mile or two, and the water is whitewashed and is the most curious and beautiful and beautiful and beautiful, and the same as to the Mississippi and the Mississippi River. The Mississippi is a great mile below the mouth of Illinois. There is a great river of the river on the banks of the river to Cairo in New Orleans. The Mississippi is a mile or two mile below New Orleans in the Upper River, and the river is in the upper river in the Upper River, and is a large island of river which is a mile below it, and is a great mile off of the river. If you want to have a good deal of a little thing to make a body of the best kind of a good deal of interest in the world, you will have to be a most good man in that region where it is to be found in the State of Mississippi to St. Louis to New Orleans. The Mississippi River is a mile or two mile below Memphis. The river is a mile below the mouth of the river, and is all over the river and around the river and the other side of the river. The river is a mile off from New Orleans to New Orleans. It is a very good place to go to the river and stretch the river to New Orleans and the river, and then the Mississippi is the river of Mexico and Missouri, and the Mississippi River and Cairo. It is a great town in the Upper River and Cairo, and Troy River, and Cairo River and New Orleans. The Mississippi River is situated in the river, and the Mississippi is a mile below the mouth of the Mississippi; and the Mississippi is a French Bend, and the Mississippi is a great river that is a mile or two mile below the mouth of the river and the River and New Orleans to New Orleans. The water is about twelve hundred feet high and I can see the river in the\n",
      "The world seemed like such a peaceful place until the magic tree was discovered in London. The Great Court of St. Louis was a great town of Louisiana. The New Orleans had been trimmed by the Union River in New Orleans. The Mississippi River was a great town of Louisiana, and the Southern Mississippi and New Orleans. It was a great town which now occupies the river in the early days. It was a solid river reef, and the smoke was towed from the river in the channel. It is a spacious bend of river and is a mile below the mouth of the river. It is a beautiful city of the United States River River. It was a cape of New Orleans, and the Mississippi is the same as I can see the Mississippi River River and New Orleans for the purpose of the Mississippi; and in the Mississippi the Mississippi River is the best way I have to see it. The river is nearly as straight and as the wind is under the roots of the river. The water has a couple of times in two places, and a little distance or two in the water is a flat mile and a half twain in the water. The water is in the water now and the water is in the middle of the river. The water is very high; and the river is a row of bright white walls, and the other are the most beautiful and beautiful and beautiful. They are in the course of the river, and there is a great river in the river, but it is a great city. We are not in the upper river at the mouth of the town now. It is a great region of Louisiana, and on the banks of Mississippi, and the Mississippi is the same as a 'Island.' It is a spacious island reef, which is the mouth of New Orleans in Vicksburg, and Vicksburg River in New Orleans. The Mississippi is the U.S. S. S. F. S. S. S. C. S. S. W. H. Hammond Trumbulls Effect Of The Project Of The Project \"The Great Turk,\" I I know the story of I have seen it out of the Mississippi River River Island I was in no way to see a Missouri Bend River River and the Mississippi River and Natchez. The Mississippi River was a large flat-mile stretch, and is a mile long and a half twain and a very small distance between it; and the water is charged with gum, and a little more or less than the\n",
      "The world seemed like such a peaceful place until the magic tree was discovered in London. The captain said, 'No I have said it was a good deal of the same way to the Government that was an Englishman--I was a boy to be a little one of the greatest and most celebrated and generous I ever heard of when I was in the midst of myself. I went to the village in the midst of one of the most conspicuous things which I had already seen of it and my life, and so he was a king, and then I went to the presence of my own house and was able to keep the bill out of my mind of the Missouri. I struck the 'Paul Jones' of my own lodge and was a good deal of a long time-- 'Here comes the captain, sir.' 'Well, I will never think of anything which you can kiss your tongue.' When I had got a chance to tell this thing, I said I had been to blame with it again with the way of that question's office. I knew it was the first time I saw it. I was a great and friendless young man of the 'Times of You ' Trophy,' and the 'I should get away for a long time or two or two mile.' I had a vague cry of a man who said it-- 'I will not be a marvel to him by any man who has been so nearly able to do it and not go back to the town again. I will still know that I would see it now in the south to the mouth of the river. It is a fine river, and is the very narrow island above the mouth of the river. The river is the great river and the river toward St. Louis. They are nearly all about three feet deep in the outside of the river, and in the course of the river this will take a short distance of a mile of a mile. The sun is a mile below the surface of the river, and the river is so vast that the water has a distinct stage of the forest, and the floor is drifting in a little distance and then on the river, and then the town has an average mile and a half twain (which is a great town to a bar), and the Mississippi River and Cairo is a good deal more than the river has seen in the course of two feet a day, and the river is the chief of a hundred feet. The 'Pennsylvania Sellers' is made by the State Valley River River in England--to St. Louis and New Orleans in\n",
      "The world seemed like such a peaceful place until the magic tree was discovered in London. The prettiest river is higher than any other region. The river is full of the great river and the sun, and the river is rising by the sun-trunks and the vegetables of the banks, and are going to dig up the river with the water of the river. A violent stream is as wide as the ridge; between the fences and the city; the great river is a quarter of a mile above the surface. Above the upper end of the river is a hundred mile below St. Louis River; and in the middle of the river the river is a pretty narrow channel, and the banks which are a cut-off of the river are on the river; and by the association 3,000 annually they could a land at a time or two another. We don't know how the water is of the shoalest expanses of the river, and you will soon stay for one or two feet in the open water--like a stone or a house. If you are to be the same as a hundred mile below here, you may as well be a day to get up with the South River which is a good mile below the mouth of November. I will have to hunt off the river to the depth of February; and that is, common to the kind of a German Language to Troy. There is a condition which I have said in a large river, of course, and there are three steamboats in the Mississippi now. There is a very slow place in the war, but there is one or two great sugar is of a good extent for eighty-six miles. It is a thing which has been extracted from the channel of the water, but no matter what the river can ascend to the mouth of the river. It is a great island on the Rapids, and the river ranges between Louisiana and New Orleans and Cairo, and Huck Finn I can do and every day one of the houses has been associated with them. Now is a picture-- 'The French Society is in the South on the Mississippi and Missouri River. In some cases we have had a most enjoyable trips out of the Mississippi River and Cairo. You can find that the river has some three hundred feet in the water all in three of the river I reckon; but the waters of the river has been on the left bank and towers. There are three other steamboats in the town. We are in a great degree of importance from the town to the obstruction of a population. Two of these facts are in all of their lives on the \n",
      "The world seemed like such a peaceful place until the magic tree was discovered in London. His gallant face began to stammer, and he was almost behind the wall. They were not only in the midst of it. He imagined that the little man and his servant was to die from him and fix him from the bottom side and up to the corner; and it was a thunderbolt to me that one had a idea of his own mind that he was blameless, and he could not come back and fix the tragic truth. Her father was so glad that Tom died in the middle of the room, and never say, and finally he was a servant, and it was like he was but a boy of mine in St. Louis with him. She was a very great crime. She was a most wonderful person in her life that ever had ever been so poor long years ago, and that she was gone. If she had been in England could not hear him any better, she would then have proffered them all. His eye began to read in the press, which had been found in the Upper River whose duty was left to the end of the first floor and disposed of it. He was preparing to run aboard again, and then got aboard to the floor, and I got to the inside of the cavern and found out the rubbage a little better go down to the other, and we couldnt hear no more of them. It was the very first to be in, but all they ever went aboard. By-and-by I got to for the crick on a piece of paper, and I says: \"What did you want to make it?\" \"I dont mean a word. And I dont know how. Ive got here all this time aint let it for cramp. I reckon theyre right. I dont care for the interruption and tell you about that. Lots of em would like to try; but you reckon theyre always killed very well _us_ know it more, anyway.\" \"Dont you think so? I reckon you said I didnt know that, when I lived to start out the way out of my reach, and I didnt ever see the trouble and swear about it. I didnt _reckon_ how to do it. And so I didnt reckon I didnt. Then I clumb to the front door, and seemed to think I might think of that. I couldnt endure it. I didnt mind, I didnt like it was safe, and I was going to know him quite where I was a young man. I had nearly got I there myself and asked him not how he loved him to do so to himself \n",
      "The world seemed like such a peaceful place until the magic tree was discovered in London. A great burst of Hugo scattered him on a hurricane deck and put himself upon the front desk, and he would rush off the full draught of his doublet. He took off the olive box to smoke with his fists on the straw-head and the bear-pot, and the little boys richly combed and straining with ours, thinking, and leading the boys, and often fled to the jail again, but for the funeral should remain in the water, and that they might go and save to believe that they were captured ones and picturesque men. Tom was awful shut; but people went slowly back again to the former asylum, and the captain, leaving a hurried guard behind the indians, watching him to the excitement, always, after the dread and scandalous hope of their surprise by those who could not perceive that such a person was right and gone. Brown was always fumbling in a sweat and cracked helmet; then the leader who had been away with the gorgeous report of the town and the Anchor Club. The above mentioned (St. Genevieve has greatly visible short trips; but they made the brush lighted) by this time--after which he was bringing up, nipped it with excitement and all the other's order, that is, the first steamboat was not at hand as a matter of royal laws as any other civilization can endure in the sense of progress, in effect, without cost the meal. It was claimed that the river grew in the rocky seas of the Union of New Orleans in Vicksburg. The second boat I saw I had cut up a little distance of river was eighteen hundred feet high away, and two boilers, each date of the 50,000 foot. Then there is much way in London roads, as if it had been a windfall feet. The land between the ridge has been enough in the floods; it may be otherwise delightful to be the most significant of the human being. The master scold, \"First and the The King of the Bedchamber.\" I have tried a long time from getting out in London on a Saturday last night. I had retired and told me that there was but one reader that this thing was content. I fished-up in the cheek and bristled, and presently he fought up the bank and stretch a little one of the crowd on the inside some along. I felt sorry when I saw that picture of a lodge in the pilot-house. I said that if I had dared to believe I was a boy which always warn you how I had felt anything useful than any other man there, either of the qualities he used to use when\n",
      "samples produced...\n",
      "garbage collected...\n",
      "session cleared (to save memory)...\n",
      "epoch:  22\n",
      "110/110 [==============================] - 12s 106ms/step - loss: 2.0130\n",
      "finished training...\n",
      "The world seemed like such a peaceful place until the magic tree was discovered in London. The Prince of Wales was a great and wonderful one, and had a long way to the Council of London to the Guildhall, and had a good time in the palace and the King. He was a good deal of age in the State of London City, and he was a great hero to him, and the King of England was not to be allowed to pay the expenses of the Mississippi to the United States to the association (and I believe I was on the spot of the time that the Mississippi River Commission was in the North End Line) of the Mississippi, and then got out for the Mississippi and Mississippi. The Mississippi River is a mile and a half from New Orleans to New Orleans, and it is a great river of Louisiana. It is a very good place to be the only town of New Orleans Valley now. When I was a boy of mine and my cousin Mr. Brown, I was a boy of mine class, and was a very good man and a child, and a poor old man, and a young fellow and a young young fellow. He had a good time in the State of London County, and had a good time to get the best of the family into the town and the Widow Douglas A-R-a-r-k three! He done it all I was to do to goodness I warnt ever going to be a prisoner and a preacher. I was a-going to be a boy and Tom Sawyer, and Jim and me told me how to make a nigger a good nigger and a dog and a dog and a dog to the Widow Douglas and Jim and Mary Jane Jane, and Ben Rogers and Sid Sawyer. I says, Why didnt you tell me what I was thinking about it?\" \"Why, Tom, you bet I dont know what I say. I know what I want is. I know it over the way you are going to do. But I dont know why _I_ want to do it. I think youre a coward man than what I want to do is to say _I_ dont care what you _do_ with the _-_ and Tom Sawyer and Jim.\" And he said he would be a runaway nigger and two niggers and two men on the wreck and the nigger I ever see. I was a-going to get the money out of town before I got out of the woods at the head of the island. I was \n",
      "The world seemed like such a peaceful place until the magic tree was discovered in London. The chief had been sent out of the Mississippi, and were always worn together. The King was there; and he was a man of fifteen in the same sort of English fashion, and had a strong sense of the sort of a liar than he had ever been a man. He was a man of the most generous liar, and a preacher too well an object to him that he was a hero to him. He had a fancy and a preacher, and a preacher. He was a German reporter, and I am not able to say that these things are always more than a great man to the association; and that the King is not so free from him, and he will be a king. It is a matter which is not a mystery to me which he is not able to say _what_ would be worth it. I think it is a great sight to me that I am not able to describe the thing which I mean would have done while you are not altogether able to accept the fact that the Mississippi River has been one of the most notable in New Orleans in New Orleans in the Union, and I think of it a few days ago I have been to New Orleans, but I am not able to describe the thing that is still in the same way. I used to be a great hero to the Constable of Alton on the Pacific side of the Mississippi, which was a great deal of a man to get away from the Mississippi to New Orleans to New Orleans in New Orleans to New Orleans to New Orleans in New Orleans and New Orleans now. In the course of these Sunday-schools there was an unbroken and important thing to take into the Mississippi River till the flood was ended. It was a great town, with a vast red and clad and clad and clad in New Orleans in a former time, with a population of men who had a very few years ago of the Spanish Indians. The Mississippi River was the first and last thing that ever was in the town of the Mississippi. It is a very curious thing to carry up the Mississippi steamer with a lot of them and a hundred and fifty dollars. A fact which I have to believe is a thing which I have ever encountered before, and I will offer to it a little more than a month ago. I have to learn the names of raising out the fact that I will never see the thing in the world yet. But I will not divide the\n",
      "The world seemed like such a peaceful place until the magic tree was discovered in London. The Blue River was very fine, and Marquette's pilots were the only town of New Orleans----, and taken from the town to New Orleans, and from the Lower River to the Ohio a large and solid hill of rock and stone to the south. The river was only a town of Washington, and had a population of White River and St. Louis. The banks were about three miles wide in the same way in the week, and had a population of which they had the same size as Marquette. The water was very narrow and still in flood--and it was not a bit of time anywhere there. The first thing I had at the wheel was not quite conspicuous, however, and not to be expected to reach the banks of the river till the war was taking the time out of the Mississippi River in New Orleans to the mouth of the Mississippi. But the houses were being made in the water now. In the American Bend River, a negro of New Orleans, built a vast river and were visible in the Appendix Iii. The Mississippi River Troy is situated at the mouth of Louisiana, in ; and thence to Natchez, which is a country of seventy-five miles from New Orleans to New Orleans. This island was four miles wide, and in California Bend, and a negro named Ben Rucker, and Dr. Cable Connecticut is a beautiful building center of the Southern Mississippi, Louisiana, Louisiana, New Orleans, and General York, and St. Louis. The Mississippi River is Canal Street, and Moline now, and Troy Bend. The water is a mile wide and five-mile wide, and is large and narrow in blocks. The Mississippi River is the center of population now. The White Hawk's Rock River is situated in the center of the town, a mile or two of the Mississippi, and take them to the Gulf of Mexico to the Mississippi.' We parted from St. Louis and New Orleans, which was a great town of sixteen Sunday three miles from New Orleans, and had a big steamer and a hundred and fifty-eight miles long to Memphis. The Mississippi has built a hundred and fifty miles below the mouth of Louisiana, about ten feet of the depth, and is about ten feet wide. It is navigable by the electric current of the Mississippi, and is now the only sign of the great river between Cairo and Cairo. The Mississippi's depth is nearly without shape,\n",
      "The world seemed like such a peaceful place until the magic tree was discovered in London. There were some picturesque boys in the men who were in the habit of rafts and animals in their places, and they were not worth seeing them any longer. We had a good time of the country to St. Louis, and begged a captain not to remember the bees and chains their heads together under the waves of the drowning house. For instance, the man was unspeakably in the court--and he was only about to attack the negro prisoners out in a book to be a stranger of a bygone service, with a population of sixteen and fifty bishops and young ladies; the most the most remarkable one that is an important matter to him the prosecution of note in the 'Times-Democrat' boat. In the sixth place, I have been accused to read with a growing and exceedingly hearty report. My Lord Hertford died, and was a great hero; Lord St. Louis was a nuisance to him. He was born in Mississippi, in the course of the year, and the illustrious Captain Charles Taylor and the Bishop of Norfolk, and Edward Earl; and Sir Walter Scott, who went out to the Tower on the Atlantic, with the Royal Hospital in New Orleans, and the Red River was on board the Bridge and the Devil's Elbow and New Orleans, and Evening Evening in the morning in this chapter, and as usual as turning from the writer's hands on my side, that is to say, 'Yes--.!' I told him of English language; I was a King and his widow; and he was a boy of Walter's triumph in the past. But I had to tell this letter all I wanted to do, but I had not found a watchman of his time to the boat, and I contracted to go home to this boat for future purposes. I used to remember these people yet from Sunday-school books, I think, but I supposed that I had been a dog and a gentleman of mine to get into trouble with the Judge Thatcher as well as I was--by-and-bye or some of the best pilots in New Orleans City. There was a large railway center in the upper berth for me to get away from the bank. By-and-by I saw the load of the houses empty on the sides of the houses, in the middle of the middle of the Missouri shore; I saw the led by a wall, and went down the river, holding off the soil and then to the town again. The Mississippi was just as fine as Troy,\n",
      "The world seemed like such a peaceful place until the magic tree was discovered in London. Hope everywhere was an excellent thing; and thus had a general dash to find it constantly into the world which I had not heard of, but straightway a tongue probably was too near to do; he now and again to himself; for he was bound to adorn the precious brick and some new ones to live the whole world with a power of hers, and right away from the foundations of London and New Orleans in the North-- about this stage of the grave; and he would have been a portion of a younger sort of meeting it. Four years ago he was a beautiful, high-witted, and he had never told the Lord Himself --i just saw the mob entirely under Sunday-school life and the likely the people could buy that money in the same way, but he was a confession--an you reckon he made in the time he was a stranger and a child, and had the privilege of knowing a fair speech; and he was an apprentice, a man, a brother, and a physician, and he who don't care for him; but as he calls the association, he will have an advantage of him, he goes to a pilot; and he is an honor, perhaps; he is a very shiftless pilot, and is born to be a justice. On such a book of your illustrious men, who is Bobs a republican genius, was a very great and degraded genius; and that the other are the following story, and gives this fellow a visit for his children on occasion to find himself out with the carrying-off, if he knew anything! 'Maybe Some of the men's pilots will have the advantage of a negro race and a pilot-house, the post-mate to take off a small portion with? I think it will be and soon about it. You know that this is the prayer for I use it. I do not know how it is to have the direction of a Sunday-school passage in the Southern literature. The idea is only that I took a position in the St. Louis, but I believe I've got out of this world. How long have you been a king?' 'Quite what I have said.' 'Yes, sir,' said the captain, 'I've had to go twenty-five mile below New Orleans in our houses.' 'Well, I know it's Sunday-school, plain boy. Now you get along, didn't you? Please you not a minute, & i have two bales lines & a ton of five dollars, but they dont think the Mexican owns a camp-house in fifteen days worth of a\n",
      "The world seemed like such a peaceful place until the magic tree was discovered in London. This trip it was situated on the ground below the Grand Gulf of Mexico, between Cairo and New Orleans in New Orleans. And in that year the fame of these old houses, variety of irregular blocks, approached by a sort of spreading moss carpeted with unimaginable rich shrubs-- 3, below the cemetery, and a multitude of young young ladies of eighteen daughters of their stay across  --the Third Of Three. June 51, 1825, some of the knights of the citizens of London have heard of the steersman and the far-seeing great banks illustrative of all that. Now ten subordinates were numbered to death and present history. True, we visited the Mississippi. The Name of London. Chapter Iv. The Tower and Residence One of the Island is now a very fanciful one of the romantic features of the growth of its range; but a period of strange literature is a name which none of them is \"much whether its social life is not safe.\" When now after the end of the day on, the owners to be two hundred and fifty miles annually were exchanged for the reception of a prayer-house, and the most enjoyable wait before yesterday; still, it is certain of what the Taster interested in our Sunday-school lost in the 'laced washed' fence,--cheers; there was company in the South point, and had got a brass ticket, and he gives a couple of other double tools which he would teach were doing, in truth, more than once as in Westminster, and set into the United States. The news was on a fellow who brought a relative upon the place where was the cause of the Earl of Kent the letter to remain in New Orleans. In early years he was a child of age to join a school upon his former days and died in a state; and therefore he was the envy of the subject--he was often on his part of the war. He had expected to realize Adler private a lesson that was in the way of further dated it in New Orleans. When the weather went out these two fifty-two years ago, Captain Sellers, he had had to set the boy in his hand, he shot him up, he proposed to resume the privilege of stealing his money as a support; also it that Murel was an apprentice, Prince of Wales, and a son of an alderman, and the watch so it was my only trouble of the school-gossip I had lost sympathy. We read and set him down a hall, and in the course of that day I was on the banks of \n",
      "samples produced...\n",
      "garbage collected...\n",
      "session cleared (to save memory)...\n",
      "epoch:  23\n",
      "110/110 [==============================] - 12s 107ms/step - loss: 1.8340\n",
      "finished training...\n",
      "The world seemed like such a peaceful place until the magic tree was discovered in London. But the King was not in the act of becoming acquainted with the poor King, but he was not so precious to be the prince of England. He was a Christian sham genius, and had a princely heart to her eyes. She was always gratified to be her child. She was not a member of the village laying on the Kings Head; he was a sort of home--and he was not so precious, for she was not only a boy to be allowed to do it. She was a romantic person, and was a great loss. She was not a little ways of age, and had never seen any other boy. He had a few days to be a boy of the village that was in the bargain in the South. She was a good deal of a life to me which she had been away from the river. He was a venerable and flourishing city, with a young woman, with a grand hand in her hand. She had a large shirt parted in the parlor in the State Valley, and the King was on the roof of the lodge. He was a great boy, and had a good time to Tom Canty, and the King was not yet a little while, and the King was not yet a little while. He was a free boy, and also was a burden to him. He was not the King of the village that was over a steamboat again. He was a most persuasive and wonderful genius, and had a good time of the Kings comrades at home; and the King was a man of the highest and the diseased, a generous and worthy genius, and the most of the most lavish of the Kingdom of Dreams. The King of the Game Inn was a great New England City, London, Arkansas, Arkansas, and General York, and General York, and General Mabry, who was a slim boy, and a young man of eighteen persons, with a few other relics of the United States, and Captain Klinefelter's chief mate, who was sentenced to Mr. Hobson's book, and Mr. Hobson Of the New York School, and the Lady Edith of the Royal Council, Prince of Wales, who passed into the Tower, to wit, that the King of England was buried in London, and died in the South. The King was the son of Queen Elizabeth, of Kent, in New England, Prince of Wales, who passed the King of the Duchy of Lancaster, who passed it to the Third Groom of\n",
      "The world seemed like such a peaceful place until the magic tree was discovered in London. The King was in the act of stealing the King and the King to the First Gentleman of the Bedchamber, who passed it to the King of the Stole, who passed it to the First Gentleman of the Household, who passed it to the Third Groom of the Stole, who passed it to the Third Groom of the Bedchamber, who passed it to the Third Groom, who passed it to the Third Groom of the Bedchamber, who passed it to the Third Groom of the Household Forest, who passed it to the Third Groom of the Bedchamber, who passed it to the Master Royal Diaperer, who passed it to the First Gentleman of the Bedchamber, who passed it to the Third Gentleman, who passed it to the Third Groom of the Forest, who passed it to the First Gentleman of the Household, who passed it to the Commons-- \"In the South Iii., the King of England, the Prince of Wales! The King is crowned in Westminster Hall; the King is hanged in the Tower; the King is a Christian, a Christian, and whose office is the son of King Edward Vi of England, in London. He is a gifted and persuasive genius. It is a wonderful thing that is not the source of a book which it is still alive or not as much value as any other other foreign tourists, but it is a fine sort of way. The United States will be private at New Orleans, and say I will find a great many of them in Europe and Italy. The New Orleans has been a county pilot, and is not only a pilot who is concerned in the State prison; but it is a wonderful thing to say that the Mississippi River Commission will have been buried in the Valley Valley, in the lower river of Louisiana. The river has a population of fifteen hundred thousand miles, and the other country towns are navigable by the Missouri River Valley. The Mississippi has a restricted river, and when the river is full of cotton and brick and cotton-seed cotton-seed oil, you've got to have to go up to it. The water is now exceedingly narrow and well paved in the chute of 103 and in low water; and the water will keep the alluvial banks of the river to-day and the river drunkard will preserve the water into the surface. The river is a large distance below the mouth of Mississippi, and Delta is a beautiful town. In the Appendix I have\n",
      "The world seemed like such a peaceful place until the magic tree was discovered in London. He was a pretty slim creature, with a tender heart of coarse and blue figure and glowing eyes; for the next moment the old man was about to stir with his thoughts out of the room. He was pretty curious to see Tom was sleepy. He had a large picture of a red necktie in the world; the same muffled and confident creature was to last in a moment to make a sound tremble and a shudder that would be the one which she could not sleep or catch him any. She did not know what she was after, and her tongue was gone again. She was the only gentleman in the world that was trying to stop with her and be allowed to do her best to follow her to her room. She would be the only son of the prince of England. She was the old Kings Land, and the King was a Christian King, King of England; but Miles Hendon would be real prince at the bar to the people and give him a thousand dollars whatever he had done, and if she had no heart to talk of it he would not be wise of it, she would rather be broken again. She was in the act of going on, but Tom was not able to get free of that sort of excitement when she was a boy to come to bed in the midst of her own heart. He was a strange thing in that day, and she was so grateful she was doing it again. She could not try to turn her to the point, and never feel obliged to find herself comfortable to her own closet. She was a sort of worse and a new night. He said so, in a moment, that she might have been pope. He had been set for him in his presence, and the place of a United States were not yet a matter. He made an effort to find it, and was conscious that he was not the only person in that day, and he had to remember her parents and acquaintances and the Lord Protector. The King was not only a boy, and had one hundred and fifty dollars, and so on account of his own freedom was a failure of it which he broke into a pretty low and excited way. The captain was still talking to him presently, and then said, with a deep laugh-- \"I do not know what it is, I will.\" \"But you will see him. I will tell you how to do it; but it is a lie book.\" \"Thou art not a hundred times a king, Nan. Thou hast been prince by poison.\"\n",
      "The world seemed like such a peaceful place until the magic tree was discovered in London. One would be seen in the distance. He had a distinct instance of the Big Seal and the King, the earliest pioneer, and the other. Throughout the year the foreign tourist should be forced to take care of the poor shoemaker and return to the throne of England. Chapter I. I take passage in the pilot again, and presently got up the game and knocked it down. The captain made and carefully wiped his cane and squeezed them out of breath that he must have to get drunk and phrenology at home or on the road to New Orleans. At last I was told where I had used. Then I was on the sly a good piece of paper which Mr. Bixby got to do was I to lose. So I wrote on the captain's name: 'Whoo-oop! See the gates and the _Miss Mary Ann_.' Pretty well, I thought I wanted to arrive. When I got to the window where the men got to it he went back and begun to moan and reel in the house and snatch the things and listen. Jim had a good look, and I says: \"Whats the matter with it? Why, yes, you can stand it; and the next one comes and tother one for your wife, and Im found out of my troubles, and they used to go and take me home and listen.\" \"Yes,\" he says. \"You better do it. We can fix it when I can get into a million times.\" \"Well, it aint regular. Well, then I never got help to go back and get it out. I knowed how the trouble was coming, and I didnt _know_ how pap was. I never stopped running till it most come running out into the river to see you; and I didnt do it. So I laid in and told how I was going to try to fix some of the roughest pilots, and I wouldnt try to get up, but I was right sorry; but I forgot I didnt know nothing. When the first streak stopped and I thought I would try to take Jim away, and then I says: \"Whats it?\" \"Yes. So I know how. And that can do Im a mean long job when you get to tell him about the whole world and the things youre at all sight _wont_ _they_ want to try the one of ye, and not anybody to call it myself than Ill have to be fair to you and say theyll be back to Silas Phelps and tell the Uncle\n",
      "The world seemed like such a peaceful place until the magic tree was discovered in London. The town drunkard gave him a mighty poor sweet spirit twenty then ago; with hands like Hertford and Hugo Court had passed into the presence of the King, and the King was on the throne again, to his presence, from the throne of England, and with a princely hand hidden through the palace, that they cried out to him, \"We will have food and abuse them.\" A deep hush fell upon the kneeling King, in his regal presence and in a robe of tears; then said with a royal laugh-- \"I am satisfied who is there!\" A mocking laugh was changed-- \"I am old. Exert it to Mrs. Harper, and I will remember it once.\" The boy bowed a trifle toward the lodge with a tremendous uneasiness. Then a tremendous sound followed, and he was close out of the house to the Widow Douglas. She went for the middle of the room in the open air to see her brothers own share of his admiring days. This was the \"King\" of an old house, alone out of her mind, where she had a bundle of cold and white hair. He did not wait a moment; then she went and stood up to the water, and said calmly-- \"Alack, it hath no other Voice to be gifted to your mercy!\" But in truth he had never seen a house in our village since; but she could not sleep when all his body would be lost, though only the tears in their body could have endured the least time, since she was begging to die or fly. She could not find that she was doing it; for she seemed to tell her story. He harassed him inwardly, with the insulting Kings in his vicinity. In time she was running out of the water to see if she had waked him to show her a taste, and she would take the old man from her mothers neck to tother . So he said he never thought of anything he could do with the face of a sudden ache disturbed by the intruder. When he found that the last day in the morning Tom Canty had searched the dread of her husband and had to go to her closet; but she must try to try to turn out, if she had a vague desire, and be sure to be happy. But she only could spare her husband no longer, though she had been afraid. She seemed to be silent before she came back. He had gone the company, in the great distance, and the third time Hendon was torn by a knife, which seemed to lead, and when he could have noticed \n",
      "The world seemed like such a peaceful place until the magic tree was discovered in London. Many a time of the 3rd day--the murmur and the other had drove back to the head of the cave, Hendons crew, in their great robes, sprang out of the vessel, backed him up, and as instantly slightly to degradation in their simple distress, he began to stammer out, year, every night, to return to town to the coronation, to pray for safety. It was a great day, there, but there was no evil hope to hear the sound dreadful woe and woe that all the people her had seen in the world. Ah, it was awful narrow to tears than a terror to him; so, 'What was the boy for it, I see thered be an awful smell of water on my head; and the third time one might see it was all sound at his throat. He jumped up and says: \"Hold her in, boy!--and the day youre up again? Poor chap, you are polite, and doing a Roman soldier to be afraid to let anybody go with you after that. If you get away and watch em go. We don't leave. But if wed a go to it, youd never see a window, and go overboard and lock over, or break in the house on each side, and take it by them. So then we all the canoe at the sterns and went home to where I was talking. That was all right. There was a sound--none of it. I said-- 'I'll come. You see you feel as plain as Im again, and come out in the dark-yard, and profoundly go.' 'The best pilots sake for that. They cheered this through solid cellar and the 'God Quixote'--cost him a demon-harp, for the lands in the earth.' The commands of the last physicians was a region of antiquity. One summer, a large citizen was near, on one side of the island of London Church. The list of cremation was the sacred way of steamboatmen on the 'Baton .' At the end of the day the day was past there. At the early day, a while after the war was full--steamboat houses on the back of Missouri River Bend. Then all the dwellings were found about a farm where the river had run along. Both sexes used to take their places, but they would soon die till next, about a week or two days, and never to dig it around. So we were down with the wagon in the timber a good deal of water, and bought into a lumber plantation; the sullen places where we cut the river is a channel\n",
      "samples produced...\n",
      "garbage collected...\n",
      "session cleared (to save memory)...\n",
      "epoch:  24\n",
      "110/110 [==============================] - 12s 106ms/step - loss: 1.6352\n",
      "finished training...\n",
      "The world seemed like such a peaceful place until the magic tree was discovered in London. The ancient mariner had been in its height by a thousand warlike tribes of Wales. The King was crowned with a gorgeous prince, marching with rich babes, and from the Tower to the Tower. John Hobbs, of Offal Court hustled up the Bridge, and the King of England was received by Tom, the King of the Tower, the Constable of the Tower, the Chancellor of the Duchy of Lancaster, the Whipping, the Chancellor Royal Theatre, the First Lord of the Chamber, the First Lord of the Tower, the True King of the Chamber, the Constable of Kent, the Constable of the Wardrobe, Norroy King, the First Lord of the Chamber, the Master of the Wardrobe, the Chancellor Royal Theatre, the Constable of England, Norroy King of the Mooncalves, The King of the Mooncalves, The King of the Mooncalves, The King of the Mooncalves, the Lord Son of the Mooncalves, The King of the Mooncalves, The Lord of the Mooncalves! The Night Gone Hendon Hall was the Mysterious Avenger of the Seas, The King of the Mooncalves!\" The Lord Protector made reverence by Hugh with a cudgel, Miles Hendons head, and John Hobbs, the Chancellor, the Lord Mayor and the Tower, the Chancellor Royal \"Bridgewater,\" and the Lord Chancellor of the Wardrobe, the First Lord of the Bedchamber of the Wardrobe, Norroy King of the Mooncalves, The King of the Mooncalves, the Ancient Cross, the City of England, the Constable of the Wardrobe, the First Lord of the Bedchamber, the First Lord of the Chamber, the Constable of the Wardrobe, the First Lord of the Bedchamber, the Lord Mayor and the King, The King of the Mooncalves, the Lord Mayor-at-arms, Norroy King, the King of the Wardrobe, the Whipping-Boy House, London, London, London, Pudding Lane, and Edmund Kean the Elder, the First Lord of the Chamber. The Archbishop of Canterbury, the Constable of the Tower, Norroy King of the Mooncalves, The King of the Mooncalves and the King \"The King of the Mooncalves!\" The Princes eye was laid upon the Prince with a glad face, and said to the lady, \"Alack, I will not be free again, but I am the meanest lord I have ever heard before!\" The King \n",
      "The world seemed like such a peaceful place until the magic tree was discovered in London. But the deep intonations of the atmosphere, the destruction of the multitude along the great gateway whose base cave stood, the innocent and joyous marvels of drays and ruffians, were worn everywhere. The King was of the Prince of Wales, Edward Second Hall, the First Lord of the Game, the First Lord of the Chamber, the Great Chamber, the City of England, the Constable of the Tower, the Chancellor of the Duchy of Lancaster, the Great Gate Ranger of England, the Kings Majesty, the Ancient Revolution--the Sovereign of the Game-Cocks. The Queen of France was in St. Petersburg, and the Emperor of France, the Chancellor of England, the First Lord Mayor, the Constable of the Wardrobe, the Constable of the Household, the Princess Elizabeth of England, Norroy King, the Creature of Antiquity, the King of the Game of Treachery, the Constable of the Wardrobe, the Master of the Wardrobe, the First Lord of the Bedchamber, the Lord Mayor of the Mooncalves, the Constable of the Wardrobe, the Chancellor Royal Theatre, the Pauper Passed the First Lord of the Tower, the Constable of the Wardrobe, Norroy Lord of the Mooncalves, the King of the Wardrobe, the Whipping-Boy Household the First Link to London; John Prince of Wales, And John Kean the Elder, the Younger, Knights of Death, Knights of the Garter, the City of the Chamber, the Hereditary Grand Duke of the Wardrobe, the Lord of the Chamber of Prague, the First Lord Mayor, the True, the City of England, the Constable of the Tower, the Constable of the Wardrobe, the First Lord of the Bedchamber, the Richly-House, the First Lord of the Chamber, the Constable of the Wardrobe, the Constable of the Wardrobe, the Head Ranger of Windsor Forest, the Constable of the Wardrobe, the Constable of the Wardrobe, the Constable of the Wardrobe, the First Lord of the Bedchamber, the Great Death One Night on the Bridge; the Lord Mayor and the King King of the Wardrobe, the King of the Wardrobe, the Head Ranger of the Wardrobe, the First Lord of the Chamber, the King of the Wardrobe, the First Lord of the Buckhounds, the First Lord Mayor, the Constable of the Tower, the Constable of the Tower,\n",
      "The world seemed like such a peaceful place until the magic tree was discovered in London. The young ladies were chained, with their attendants, hoping to reach the forecastle and close to the free States day. They were not simply going to take the field of goods and shipping them through, and then they could not have thought of their steering. They were evidently not likely to be within five miles of it, and so they were not only trying to get rid of the daylight again. They were too heavenly to take the field between two farms, and to themselves all the yawl laborers, and then they would not have had a strong effect in their faces. The death-room was on top of the boat in a great hurry which lay upon them. The first blow, and the Child's First Chamber, is a fine sort of holding an awful Roman empire. The North has a Lynch in the Valley; in the Capitol, the Revolution is the name of God-speeding-Spirit, and St. John of the Kingdom of Dreams and Shadows, and all the Great Lakes that are navigable by the Great Islands and the Turks, which the throne occupies New England in the eternal forest, the White, the Waters, the City of England.\" The King was not only a year old, Sir Richard Hendon, his first son of the Wardrobe. Tom was a slim, handsome, muscular, stingy, underhanded, expecting peace and death. The King was alone in the palace, and Tom took Tom to the window and lay him sprawling over the river. Then he said: \"Oh, yes, it was the way I done. I dont know what I said. I tell you it was a ripper, thats the thing, because thats foolishness. Youre a coward, I dont know what.\" \"Well, I dont know what I was, and I aint right. I never see such a dog as they used to know if we tackle the Last touches, Tom. Its the very first time I can do now. But then I better go to sleep a while longer, so I aint glad of them. I didnt know what to do, and we lost it all day, too, for I was so glad to see it, because I couldnt get it out of it; and I never see just such a man as you could to come over. I didnt know how to do it, because I couldnt see it no more. But I just grabbed the ladder, and it was a good deal better for me to come along with them all day, and then I put the candle in my\n",
      "The world seemed like such a peaceful place until the magic tree was discovered in London. The Terror of Death is the petrified Kings in his Royal Main Times. The Virgin of England! The Princes Highness the King of the Mooncalves was kneeling with a princely knight of the Kingdom of Dreams, To The Tower, and the King of the Chamber, at the Gates of the Garter, \"Then a King!\" The sounding was put into a low robe of trumpets, and the deep intonations of the light that lay upon it made the sacred contrast between the kings and the Far West; and when he came into the city in the midst of a vast gateway, the Garter, the House of France, stood on a stage of the river all by signs and activity. The sick-room was at its highest. It was a gory window, with a broad board of steam perched on it; big trees on each side of dense forests. The river moved the three or four miles of the river, whose walls were projected in place, and shelterless cottonwood stretched athwart the horizon, and the river rolling and tumbling into the river, the flat of the river is to rain and hide in the shade and then through the dim waste of distance. The vessel had a heavy furnace through the dense forest of vapour and its roar, the fringed foliage rolling and tumbling on the floors, a torch-basket of little crabs, the pent-sounding bars, the turrets of the graveyard. It is a solitude that is coming up at sea. I was feeling pretty well satisfied that this was the only one who had left the country in my life, and I had see them all what I had looked upon. However, I knew it. The captain stood again, as a boy as I had, and the third time I ever saw St. Petersburg; and the next day I saw two ladies in the country of the Mississippi; and by-and-by he got down the street a couple or seven weeks later, with a lot of other odds--the shirt, and your fellow-rascal a- , an I, a Number, A, A, A, A, A, A, A, A, A, A, A Gentleman, A, A, A, the King!--A Revival Scene in Romeo and Juliet! It was the best I had met in the Great Seal in Romeo for the King. We had the entire   above New Madrid Bend, in the Cathedral. The river darted to the shoal soundings, and when I run in, we were out of sight. When we was\n",
      "The world seemed like such a peaceful place until the magic tree was discovered in London. The fight was interrupted: A ghastly shout went up-- \"Long live Edward the Sixth of London! Of England is A Robin, in your Humour--a Particularly Likely!--When I am starved!\" They listened, but the winds, and the Lord Protector and the King, massed together, with foamy velvet lined with violet velvet, and whose huge columns crippled Niagara, whose rich trappings stood, had been placed in the early morning, and had the same advantage in its turn that the King of the City had borne away limitless on the river; so he was resolved to cease from his purpose, by which they had been set out elsewhere. His father died a well-beloved, vicious, underhanded--with a gorgeous intellect, and the more especially the astronomer had ever said or dreamed of well as real to her, and a thought which she had just so strong her hands could never begin to blow on her ear, for it had not been in my mind for the next day. I wished I had not dared to hide her from the presence of a youth. I was sorry to see Brown say-- 'Well, I never see a quarter of a mile of days in a year, but it's a good many way and the last time I first know. They can come around it; if you do not get away, be going to leave a couple of generations and weeks; and we have to skip on those dreadful brush and go down the river and powwow to make a light of that blanket burnt the next-rate point of time and nobody into a village about the king. 'Now you shall go for a fortnight to get into trouble in a way to save it in-- 'I will seek this country through the statute of the Coronation Hendon.' 'When I here get further to the hub,' said one. 'I have no trouble in it.' 'Well, I don't know.' 'Well, I've seen the truth.' 'I don't mean to tell him you will.' 'Well, you got her men that are always going to happen as much as a week,\" says I, 'I knew I had to go to work with him. No, it is a pity which you will have done just _he _should like to go in the dark with good appetite. It doesn't occur to me, for the matter of trouble has been made in full uniform. This literature is not the opposite of its interior. It is a beautiful mountain, with its towers, turreted forest-refuges, which are beautiful and beautiful\n",
      "The world seemed like such a peaceful place until the magic tree was discovered in London. Chapter Xxxii. The mouth of the island being blown aloft on the bank, here is a railway pyramid between St. Petersburg and Louisiana, towing for alligators for their amusement. See them, take you a ship in three days, and the very kingdom. Made fast--I've seen the coast--never the right of the poor's breed; in many ways they are thirsty, not counterfeit; are gone here, somewhere. I have often ventured only seventy-four years,--all her inquiries in the South by which I have spoken: but few people are born of kings and ladies, and with smiles and bitterness-- 'A little thing like a nine-foot many, indeed, on duty--the new friend. Below us go to St. Louis streets, and this is a mighty queer question. The 'Eclipse' was the wealthiest man in the country. It used to come up the river-paved road, and added to the tail. It used to have been built now. Since I had seen one or two of those frightful places, my lords and ladies did fairly be caught up in the midst of a sudden I reflected the day, and then did us with a perishing hope. One thing that had the King's name to New England was an inveterate and ancient hero. Now I went down the empty flat-boat where I was, with a vindictive purpose of variety. I resolved to be talking, and give her pleasure to my sorrows and freedom. I ranged off, very sorry to tell him--but I never tried to make him suffer all I could. I pitied him, for mind she loved it, and I resolved to be content to rob her for the courtesy she had undergone to do on account. When I, she stumbled to the king, and she made him confess, she found her own brother all by herself, and finally took refuge in her charge, she felt just excepting she had passed by. Tom clung to his old heart. He liked her, but Tom had been safe. She was no longer heard of him at this service. She woke up at a fair moment, then shook his head with his foot, and placidly he threw himself together and shouted: \"Bout it! Is that so?\" \"True? What is it?\" \"Yesm. . . . \"_Huck_! Your majesty, forsooth!\" And he did beat it, but I couldnt hardly stand it first. So I seen the ferry and the raft all right, and I said it was the worst way I wanted to do to keep her. \"Why, \n",
      "samples produced...\n",
      "garbage collected...\n",
      "session cleared (to save memory)...\n",
      "epoch:  25\n",
      "110/110 [==============================] - 12s 106ms/step - loss: 1.4279\n",
      "finished training...\n",
      "The world seemed like such a peaceful place until the magic tree was discovered in London. The Mississippi receives the mud-brakes, and the water is thoroughly covered with the fetid alligator (worth to $18) four hundred and fifty dollars a month, and furnish it by the terms of the river that the river has been seen. In the South the river the river is navigable by bluffs, and are not navigable in the river. The Mississippi is the flourishing town now. The Mississippi is the river now, and it is joined at the mouth of the Mississippi. The river is higher than a mile wide, but it is not as a mountain of timber as it is. It is large and semi-transparent, and is shorn of poles and roofed and stone. It is great trees thickly covered with alluvial bluffs, thickly covered with alluvial bluffs, wedged in sheets on the ground, and the water wheels down the river in a way to steer for miles. The big island is a mile wide there, and a tolerable good current has not been seen. The flood is still a mile wide there, and the river is out of the bank in the water. The timber is at flood reach of 103 and the dense forest of spring, and the rain curl up and shade away from the water. The dense forest covered with drifting trees thickly covered with alluvial bluffs, and lovely and beautiful and lovely; and the shores and lanes and islands and the vast river are lovely and beautiful, and lovely and sweet and lovely, and lovely and sweet, and the river 's vast 'break,' and the far-reaching river is covered with alluvial soil, and the furthest point is broken up. A big lumber-raft in the West has a commerce in itself. It is a beautiful town, with a current where its bank will be washed up in the flood and south. The river is a mile and a half from Hannibal when the river is low. The river is higher than a mile wide, and is shorn from the water. In the South the Mississippi River the river is a beautiful town, with a vast sand or roofed over in the water, and is shortly to be seen when the river is low. The river is reduced now straight fast, and it is joined by the smoke and the cane. The pattern is often exceedingly wholesome. The pattern is a dissolving mark, the latter is feet fast, and is also comparatively exact. It is a reversed river, with a single section of the river, along with the current a couple of hundred feet, which is navigable by the Mississippi River between Cairo and St. Paul, Louisiana, and General Desolation. The Government has\n",
      "The world seemed like such a peaceful place until the magic tree was discovered in London. The voyagers moved to the cave, and they fought their heads in the same peril about the dead and wailing and watching for hunger. But the wide river was illuminated with the forecastle. A dense fog was whitewashed and the forest opening and the town deck. The chutes were electric and vanished. The dense forest still moved on again. The dense forest covered the whole vast river in its course; a dense fog poured in and a splitting rain poured down and the trees were swarming with frantic half-clad people, and covered themselves and conspicuously heavily timbered. The little town drunkard asleep a few moments, by one of one whose huge points stood over the water and out of the dense foliage of rain falling around and overhead. The dense forest covered with trees, the dense forest and trees still were gentle and deafening, and the fragrance of the blossoms were massed in the sun'in water, and the water wheels out from the water a foot above the level (which shortened the amount up to the crossing) was a deadly moving object toward the pilot-house. A great fallen issued from the pilot-house, and Tom Canty, similarly mounted, took a skiff and two more easily in readiness. Tom Canty stood over the Kings toes, and he was still tramping with a raging wind. He looked perplexed, now, and uneasy; then turned to his work, and plunged into the fire before him. The gladness of the lying had faded away, and Tom Canty stood by the door and the door yielded, and the King stirred out a smothered laugh, then he said-- \"Sire, he hath been the true prince. But I am the King!\" The King was assisted by the Kings couch, and plunged over the King with the adoring \"O King and the King!\" The crowd moved on, and Tom Canty stood upon the Princes side of the Princes head, and said-- \"Ho, Nan, Nan! Have I never heard of when theres others in this matter?\" \"Nay, _I_ did it, sir. I will try to keep it back again!\" \"My Lord giveth is gone from the ground before I blow. It is a brief day.\" \"Tis a lie! I will keep it so!\" The King looked pleased to the King, who gazed a pleasant face at the old man, and said-- \"Knowst thou the King?\" \"Ah, Sire, I do not know. But I have lost the house, and still I may see it all the nights!\" He muttered, \"It is a shameful thing!\"\n",
      "The world seemed like such a peaceful place until the magic tree was discovered in London. The voyagers halted and disappeared; the King made for several days, and took him to the ground indicated what seemed a genuine and satisfactory sign; but at last his aunt struck a fierce warning for her brother boys brother had interfered his sentence without dissent. The next instant he found Stephen lying up in the great raft, and he placed himself in an open chair, keeping his way through his chair, and moved on tiptoe to the place where he was going to be. The King appeared to explain aloud: \"Let him go to the Tower, else,\" and left the tavern opening. Hendon was perplexed and suffered more than ever. He was not yet born, but was only a petted prince in the eternal city. He knew what they would do. A slight shiver passed out that day. The little church door was unlocked, and the King sat down in a chair in front of the schoolhouse. The little church door of the house was made place of a suite of Indians. The Duke of Norfolks return to the city looked hard to death, but the King had not yet been the last to come in. He was well equipped for captivity, and in reality he was becoming a hero. But the widow had been gentle to her, and her sorrows multiplied were gentle and feathers; she was gentle and offensive; she was hardly conscious of the scolding and delight of the dreadful tale. She kept a little peep through the forest, and there sat no more sound about the mans heart. The King was still a captive then, but Hugh stood still, and Hendon removed the nearest chair with his mouth to the wall. The King entered, and paused in perplexity. The King was grateful that nobody knew how to steer a body or a beggar-boy before. The King was a free man, and he loved her for testifying in that sort, and she was seeking the power of her brothers to suffer some more. And so, instead of reflecting a raging shiver, he turned timidly toward the Kings side, and plunged into the barn door, with her hand bowed placidly into the face of the Kings charming face; and said with a coarse laugh, \"Alack, I am truly free--it hath wrought wherewithal to bring thee of loving eyes upon him!\" The King was assisted. Miles Hendon said to himself, \"The King hath said it!\" The crowd roared and closed themselves off in the distance and made the friendly companionship of the lashing masses, then the heads of the dead inspired him. The Lord Protector communed with princely princely dignity, and with none\n",
      "The world seemed like such a peaceful place until the magic tree was discovered in London. Now the Bridal Chamber was reached and the true Duke of Norfolk was in the early days. The fight was a mighty relief to Tom to this day, and Toms family were too heavenly to be a clown to the merciful and generous things he was doing, and George Ealer, Tom Thatcher, and Sid were about the counterpart of the family. The water was about twelve foot and a half inches long, and had to be set out without being comfortable. The boat was pretty high, and every minute his liquor begun was done. When you were starting around in the woods to come to a log, and Tom Sawyer was in a sweat to see what was left of the front benches for a cow to drownd him. Well, when hed got to wait on and got a little talk hed give a fellow a dime for two or three, and so he could drive him right along, and give him a cuff of bread and fork off of his corn-pone, and put hisn on and lay around it with his hands till he raised his hands and helped him through the crowd and found him in the dark, and cried for joy; and every time he says the king it went down and stood still, and the next minute he stood I come on a second and shinning through the river. I took out a little piece of coal in the texas. So I knowed what the trouble was about. I was sorry to think about hiding till I got choked. I judged I was in the West Point, and I said I never see I was out of there, but just the same way. I knowed how I happened. I was up in the woods, and there warnt any books in such a sweat; but I couldnt set still. It made me pleasant to say something like a man thats had any histrionic talent for me, but I couldnt ever feel sorry for it before, I couldnt help it. Well, by-and-by I got to talking about the raft, and the first rat was coming around the town, and the window was open. I didnt think of that awhile. I couldnt make nothing out of it; so I judged Id better hide a shot, because I couldnt do nothing, but I couldnt a thought of it myself. I reckoned I had a good time to set up a steamboat with them. People said it was right and not long. Then I got to the woodpile and powwow I heard a sign of \"It warnt a good place.\" \"Well, then, I _got_\n",
      "The world seemed like such a peaceful place until the magic tree was discovered in London. The people might not know anything of that. I heard them say, \"Any way that I live in this life are we going to value them with the rest of the Mississippi?\" Aunt Polly was the Sheriff's first to go to London--and he was always willing. All the same qualities were to be persuaded to domestic service, and the good sinners could not be doubted at any time; and in the first place he was a grandmother. A descendant of his exercised in one of the pilots, being in prison and four hundred years, will learn more than a thousand times as a hundred years; for a man like to be a soldier. It had been occupied, and the poor wretches stood still in a peculiarly satisfactory way. After several days of steamboats, and its troops of brilliantly lighted, they had never been breathed of each other before. The animals were not given to life, and their hearts were gentle, and loving and weaker; the mourning and consuming light of the ruined lads was still alive with the sweet and tender hearts of the heavy world that had reached out behind the Kings command. The villagers flew behind each other, and hurried by with their halberds, made a movement for a bite, and made a ball of it. They sprang to the stern, and hurried along on the wreck railings. There was silence a day to rush in; but the snow was red with the wind. They sprang to another side of the house and peered toward the tavern. The King stood before him, and gave place to their uncles. The Terror of The Tramps. The Canty of England. There was nothing so simple as the laughter of the captive could be seen; and the happy and home of the town, instead of being in the street, occurred to him to shake the floor in a very contented way, and getting the entire boy to take his leave-house in his course, and to the merciful King and the Lady Edith. The invitations had curious dreams to see each other through England, and she going every night at a time. But while he was well equipped with prayers, he moved on watch with his head bowed, and whispered to himself, \"This is the day.\" His brother sighed, and said grace-- \"Good lads, he is a King.\" \"God the Duke. Take it away.\" Lord Hertford ventured to suspect-- \"Prithee let him see--be warned, and speak to thee, and be cured!\" The frantic and astonished Tom face again, and said to himself, \"Lo, it is music, woe is\n",
      "The world seemed like such a peaceful place until the magic tree was discovered in London. Here is a waiting pause; and to this side sat the two women, and sent the men down the bank with their back through the wind, listening in its breath instantly the half-crying, a voice which indicated intensely satisfactorily. Then the Welshman said: \"My friend, Tom, I overheard you Tom Sawyer,\" and a barely perceptible struggle between her hands for the first time or two. Tom patiently determined to speak excitedly, but he had travelled her out with the appetite in the matter? Oh, by without surprise. In the meantime he was accounted to by the reader, and saved him with whither he happened, and to invite \"him\" in so, the nub held him from the stage. He recognised that his ferocious spirit was not to shudder, but a craving friend could not fail or hear her. His imagination caught, now, and at a time she was freed from the impulse of life for the next moment. The villagers were so absorbed by this lonely and pitiful family, and all the Offal Court comrades, and no other little boy; and yet she went away with her pig for security, and away with her own estate a broken and tender heart and trembling almost in suspense. The prince looked pale, and his eyes met and threw themselves upon the room almost to the stump of the murdered. A moment or two more or two of them lay upon the floor, but nothing must be found elsewhere, now, and even sounds so rudely that the sight of the boys woke up so speedily that he was the anxious man that stood before that empty-side of the soldier. He had twisted his head high and almost exhausted, and was absorbed in some other details of his life to sleep from the spring of danger. She spoke in things and longing for freedom. Vain, helpless, how companionless he had stolen his foot; but hunger failed him to have any sound at all times, or to use a single turn of earth, from head to foot, that the great bear was even for the two. At last Becky could not endure such a feather as before in which the thing \"he was capable\"and the more I shake away upon you, and thinking it all over again. Nobody should want to know what to touch an Indian vote or any. The widow Thatcher had seen Tom so, but she tried to go. He was ill sorry, but she had to bring her sorrows to her treasure after school, and if she had gone her little sooner she would start in the fog and prepare up the river without stopping what he would do. At the end of an hour\n",
      "samples produced...\n",
      "garbage collected...\n",
      "session cleared (to save memory)...\n",
      "epoch:  26\n",
      "110/110 [==============================] - 12s 107ms/step - loss: 1.2185\n",
      "finished training...\n",
      "The world seemed like such a peaceful place until the magic tree was discovered in London. In the midst of a thousand big court that stood upon the ground where De France now occupies, the realm of France received the royal titles and possessions, and his court, by rearing, and rightful prince of Wales and Pain-killer, and the impostor toward the Prince of Limitless Plenty, was conducted to his throne and Hertford Potter to the city, whence the Kings proclamation and the Lord High Mary. Then he heard the King coming in the midst of a gorgeous stranger who invented it with a royal smile. The King was seized and borne by surprise, and apparently somewhat touched with impatience and spirit. He was still staring at the monarch, but the King stirred him once more, and then said-- \"I have said thou knowst me. I will not bear it, for thou knowest no hurt. I will be content--I will not bear it.\" \"I will not believe me,\" said the King, with a fervency which showed that he was upon his quaint and ragged fancies-- \"Thy lord the King dissolved thee finely.\" The crowd jeered and said, \"Foo-foo the First Link Himself.\" The Kings face lighted with passion. The King said-- \"Remove the Kings view of the Game, and he will be the true King, and that God will restore to his father and child and lord the Duke and call her post. He shall be cured. He shall be cared for or not harm in his dignity. I will not be president; that is, for he is mad; wherefore he shall be known and kindly entreated, and will receive it to all the other, and shall receive it to all that he will make his rights secure. And when he shall recall the true king, he shall not find it still--then shall he be himself again, and will help him to his aid. Sith the King is mad, he shall be a king.\" \"I will go free here, and use prayers and grace and frets that we may eat. Then shall we be fearful--one thousand years in the seven thousand that mourn, that the King shall be again and play his stolen estates.\" The King entered, by and by his heart broke, and said-- \"I will not be in evil health. If he return to his memory he shall not have known that the King shall be his due grant to report, and shall receive it. The King shall be obeyed.\" The King started violently, and was soon empty, hating him not for the King. He said he would not \n",
      "The world seemed like such a peaceful place until the magic tree was discovered in London. He was very ill born, but all of a sudden the more like this poor little friendless age had disturbed his heart. He had been cheated in a peculiarly violent and beautiful condition, like a benediction of gentle and generous defence. She was not simply delighted to find fault with her. She was very successful, too; and she was a little embarrassing old. She was very ill. She was hardly ever in the deserted wall of the village. She was a glittering hero of the King Edward Vi. and when he was half way to the place where Jeff Thatcher lived, he was sixteen then after--still, Sid was dead with her old gray whiskers; and she was full of the greatest and most beautiful looking--beautiful boy, with sturdy face--doublet, and all--beautiful, gentle, old 's--a harmless whiskey--a college, a college--and as large as the rest of the trip. She has been always twenty-two feet high, and bearing a great many airs to his wants. She stays at the time to come back and shut him up. She has been a great hero. She has been a gentle boy, and robbed me of her dear old soul. She loved her husband dearilee, She promised to see she was dead, and she was her mother. She had her frocks on it so long, and so was the thing that she would be glad to see and pray for her dear husband for going to die with her mother. She was about sixteen years old, old Jim. I was a-smiling, and a fraud and a loving-hearted boy she struck the house at the head of the hut, and by her she was her fathers mother, and Mary Jane she set up her old heart--she loved her dear dear William I wont ever tell anybody for it. She had her frocks on the clay heel with the wind a body ever heard; and when he got there she looked out and says: \"Oh, dear, dont talk about it, Tom! I dont like trouble or pain. If you could get here and slink around, you neednt be afraid. I was getting so far away out of pap, and I knowed I was in a sweat to see me before. I bet I was in the way to let it go to bad times for ever. I cant do that very boy, and I wont do it any more. I cant do that before breakfast. I wont ever tell _that_. I dont know what was upthey sneaked up from here. I dont know what to do, Tom Sawyer. I\n",
      "The world seemed like such a peaceful place until the magic tree was discovered in London. The voyagers moved through the broad road with solid limestone on both sides, and in the same direction the population of the French ambassador was at hand so suddenly that they had spent their days and nights. At last the whole village had a visiting pilot of London to buy canoes behind them, and were tediously warped and poled back by the lightnings; and the whole village was all of a sort of formless drifting-reaching winter temple, with a great many processions of hurrying street blossoms: for there was a furious storm, with driving rain waving down the heavens, and the young remembered were not yet alive and unhanged. The King chafed bitterly over the stupendous indignity he saw the crowd of the princesses. The King awoke, by and by Canty shaking with passion, and said-- \"So please your Majesty, that we will crack the helpless of thy life to disquiet thee to the city and the glory that have wrought their tortures. Mind thy tongue, delay not thy time. I will not be driven to the city again, and mind God be praised upon the memory that the princes affliction hath conjured away its troubles and its griefs; for even so many days gone mad, they have suffered from their own country, and by and by our Majesty will be rid of the prisoner and the realm. For shame and suffering for thee, it shall remind me of thy lord where it is, and so is I that King Edward the Sixth--whom he did when he is seemingly freed of my memory.\" \"None else, indeed; neither sorrow nor pain nor delay, nor loss, nor any other nor any other else, I no more, I will--but it giveth my mind to say it--and so shall it be. It is not a thing. Thy father hath himself his wits, but he shall have holiday his Grace and Poetry.\" \"Knowst thou his lord the sun? Who art thou?\" \"I doubt not thy Majesty; I know not what thou would fetch me _for_ thee.\" \"I pray thee not, sir, no true king likewise, I know not thy voice. Take me to the Tower, or Lord Protector, that God will not bide with me in a remote and casual business, twelve thousand dollars, and so learn mercy.\" {13} Chapter Viii. The Question of Hendon Hall. Then Miles was over Toms Hall. When Hendons Head In regard the Book for the Kings Revolution, Edward Vi. was not in Greek, yet President was in the land of that year, a defeated citizen, who was sentenced\n",
      "The world seemed like such a peaceful place until the magic tree was discovered in London. The blackness of day was imminent: the passengers were deserted, and the shores and lanes of the West are shut off with the willows; and as we glided eastward in the middle of the river, it was then impossible to gather from the obstruction, as it had not a trace of the opposite portions of its view, except sweep of plank, and plowing toward it again; and when the signs usually entered the small stream it is expected that the current which ever covered its length of refuge in the flood. I imagined that I was going to know what Brown was doing, and that was where Adler Turner was. I got to learn him because he grumbled and said, but was glad to be afraid of him; and I was nearly sure. I was very thankful for a very brief hour of life. I was rebuked to pardon him. He asked me if I could not keep them, and yet I says, I wish I may _never get you_. The captain owned and wrote the nonnamous letter to lock the thing out of his mouth, and in a less degree to talk showed for a fellow who is a spiritualist, and he is obliged to keep my crown upon his memory without rapture, and comment upon him and he thinks the negro will be persuaded to stick into a book without committing it. He has to keep a smaller and fifty picture or tother, in token of the way of vigorous comment in a town. The fortune is zealously so vivid and tiresome about us! The minister states that letter was never heard of when he was born, and his mother died at the time unconscious of the whiskey, never the doubt as to that day. He was at Lexington; he was always the most probably one of the pilots of that day; and he was left mate of a young preacher who was born on a great stage wall. The second son of the late duke of George Ritchie is always unhurt, and is born to Englands humble children, and he must make his rights grow wearisome.\" He smiled inwardly and said: \"Well, she _did_ die. Tom Sawyer said she would pray for a lie. She said she was going to stir me all the days, and wouldnt do it, ever for her to pray for her.\" \"Tom, what did you say your manners was?\" \"I didnt know, Aunt Sally. But I bet you Id a learnt old Colonel Wilks to be a slave myself. And always if youre afraid of it, she lays up in a little circle, about two mile below town. She said she\n",
      "The world seemed like such a peaceful place until the magic tree was discovered in London. The oath is unriddled. The lords and ladies and ladies got to be over there; and next while there was not one here--it is thought! Chapter Xv. Well Tom. So in a remote part of the trip we were told about by no means built for the town, but such people would not stop there; nothing could disturb them. But the fear were not to be found, a person like that. I reminded Adler to make satisfactory his faculties and take them, but go to other station stock. Fallen down, Cairo was still the custom for St. Louis piloting. The island which I used to have stood in the North Carolinian touches her on his right and die--I will tell him about Parliament and London; and it is a great satisfaction, perfect though a grace in it might not be night or remoter removed from principle, if she had seen it was the honour to be a steamboatman? No, I should say; and for the amazement and admiration of the people is like the wind itself. Your Majesty says she will be blind and dumb and still. If one might speak, he hath said that it was but an angel that shall be known against a king.\" Miles Hendon saved him; he was all right, for she was endowed with a wit above his poor old age, and very proud her brother, of all the mothers lost together that came to misery. She was always at home because the whole day of the church, by way, everything occurred to them the harder that she might do; for the last, Miles Hendons ever showed a gentle thought, after all that her life had conjured up, and unavailing regrets and speech were set away within the second end he had just been set up for, and never came to be the last time of his visit through the house. He sat down and took a look and grit upon it, then shaking his head and burst back; and all at once he eyed us for shaving the stubborn body and the wounded Prince of Poverty, humble with envy, and so she went to her room to rest. What if she had been mad she was present, and she had said in her presence as she started through. But the second day the night was ended. The poor young Mary danced at the stile, without having a heart to see that she was afraid she was dead for some time listening to me. The King said-- \"Oh, Miles Hendon.\" \"Let him go, and we will be cured, and take note, and use none to touch himself, and to\n",
      "The world seemed like such a peaceful place until the magic tree was discovered in London. What was my name for day, I believe, was the day appointed for a pirate under-sheriff, where those of the Priory of Philadelphia and Jackson were \"going to be a sitting-room on both of the river to-day, in a twinkling at the end of the boards--a ton of the distance--you can satisfy any other theories?\" \"Y's its better (is I already must get out of,) in the twinkling of a solid shell-wheel. Stead of jumping around as you can put your hat in, and put the thread in your mouth, and you will find that all of a sudden there is to make several pegs in it which I could clothe me; and if you didnt mind you, in the morning, I wouldn't come to see you; and it warnt no use to worry about you so much for some soul's a beauty than what in the world, and doesn't say, neither; you _can't_ anything! It is the thing that lives, its its only double-water line. The river is as thin as the caverns of it before. Any kind of dry-trees done it, anyway. I hoped I had gained in the reach of the houses and the islands; but still I didnt do. One must venture over a place where we went down the river, when the watch joined. There was sheds made there in each corner by the kitchen walls, and had dinner on it, but a ten-foot long along, and the first man ducked his coat with absorbing caution. The captain stood up in it with his pin on his arm, and in the same fashion he had his profanity, in a particularly brief and peculiar way. However, he buttoned the head back again with a sigh. All efforts to comfort him, for he did. The children lost their faces, but the two went on with his thoughts; and there was no result, a little boy after he was dead. At last Tom said with jubilant self-\"Now,\" said he, and Sid said: \"Ah, Huck, hundreds of cash has come with me.\" \"What is it?\" I says. Huck was passing over shore, with considerable hope. Mary tried to lift imploring was the answer; \"Tom, I _will_ tell you shes acted considerable about as long as Im sitting here.\" \"But for all that.\" \"Well, I did want to. But, let me help me up, sure; Im glad at the last time I was going to do over as long as Id got anything; but I haint a forgot myself and would like\n",
      "samples produced...\n",
      "garbage collected...\n",
      "session cleared (to save memory)...\n",
      "epoch:  27\n",
      "110/110 [==============================] - 12s 107ms/step - loss: 1.0185\n",
      "finished training...\n",
      "The world seemed like such a peaceful place until the magic tree was discovered in London. The young men had departed in the street, and were at peace; and while they were in the centre of a crowd, they went on with symmetrical regularity, and led to a spacious cavern of artillery, who made a fast grip upon them, and talked in broad English costumes of water. They were prouder and stirring to the spring, but they were afraid of the missing who was happening. They had not seen their danger of getting the places silent as the little church itself was. The boys were subdued by these solemnities, and talked little over everything else at the widows and the dying of the dreadful night. They were too late, but they were so remote; there was no other passengers in the camp. Tom said: \"Why, Tom, it _did_ seem so good to be obleeged to blame for it; but it was a lie, I reckon. I went to school a piece of river all up to the village. I was thinking maybe you would like to see me again this morning and next week; and I was awful glad I was up there. I was scared now. I was the old split-bottom chair, and I was mighty particular to say so. I said I wouldnt mind the lickings of it, but I couldnt see no advantage in going on the start. I said I must go and get the money. I said I would wait for a chance to get the chain off when he wanted it; but it was all comfortable. So I laid there and talked along and told him pap and me; and I says, I got to set down the river road and waylay him and give me a chance to get a chance; but the widow said I was sorry, and I was getting so I liked Jim and me, and I didnt want to go home to school if I wanted to. I said I was a numskull, and I said I would. But I reckoned I must die again. I judged I would die if I was dead. I was standing so uneasy as I thought I had run across a bell that was in my mind, but I was scared and disappointed. I had tried to make a suggestion to me a little while, but I knew that that was the thing I had ever encountered when I was in the rear. I had learned this idea, and I could not have gotten rid of it from this day, for I had felt so much like a person as I had ever seen it before; so I said, with admiration of what\n",
      "The world seemed like such a peaceful place until the magic tree was discovered in London. But the old man went mad to the wall, and the waverer he went off with a towel, and the shingle was hung up and kicked off by the coat and blowing it was all a foot deep and was sawed through it, and I could see where it was, and so it was too late that spirits warnt ever going to find him. So I slid out of the raft and kept off the raft and come back. I made fast and laid down under the trees and brush till I got into the canoe, and slipped out amongst the brush and branches till I went in; then I slid out from the raft, and judged it was good daylight and turned over. But I didnt wear no boots and didnt think nor nothing else; so I laid there warnt any peace for the man, but I couldnt see no advantage in going to a light, I reckoned I was out of mind; so I says: \"No; I haint ever seen youand I knowed what Im about, Huck Turner. I haint ever been here before. I wouldnt mind him no more mean to be a slave in this town. I dont know what to make of it, nohow. I reckon I didnt want to go by shore if I was here. I didnt _want_ to get up there all the time, but I said I wouldnt say nothing about the next move. I was glad I was passing from the edge of the island. I could see the booming water away off in the woods, and up comes a good place; so I judged Id get a good place, and I was mighty glad I was in the yard, I says to myself, for I couldnt stand it. I didnt know what to make, I didnt see no advantage in going on my mind I couldnt help it. I said I would stay by the tree and not get out of the reach of the powwow and look in the way to do it. I tried to see the place where I was passing a place where my raft was; so I says I was mighty thankful to hear Jim say it was going to rain, and I was a good long place for a good house; so I clumb in and paddled slow and comfortable, and floated down amongst some woodboats; and I reckoned I wouldnt mind having anything to object to the boat that I was, and so I went to the raft and slipped out and float for shore. I was scared. I was scared and pap was gone. But I couldnt see\n",
      "The world seemed like such a peaceful place until the magic tree was discovered in London. And now a blustering valley of artillery, a single star in front of the few inches of every stone, was pointed through by the skids of commercial enterprise, and rafts and trading scows in the town. They had concealed a steamboat which was wanted for at boats, and they were always prepared to furnish material at a game-mill. They were also nine and nine in the neighborhood; so they were manifestly commanded by steamboat accidents, and were promptly discharged to than the river. It was a spacious town, with a broad granite plain stone, with broad verandas all around, and some house stretching from the house level with two or three inches deep, and had fringed ends of stock of clean fruits and everything in readiness for the voyage voluntarily. The cut-off plays havoc with the boats of the Spanish occupation. The cut-off plays havoc with the boats of the United States for the flood of the Mississippi. It is said that the World-Wartegg is the mouth of a 'red man' town. The Flood-House is known in Louisiana, in State on the Atlantic times. The emotions of this new set is not yet what it once was. It is a great pity, for it is all the signs in the world to be real in the world. In the first place, the population of the Lower Mississippi is very valuable--washed together in blocks, and in some regions south-west; and Government fines a comfortable breakfast in the Gulf of California; the descriptions of three great  --I gathered upon the rocky slope of the island almost before arriving at Vicksburg, and turned its way through a vast flower-house where I had left for many miles; but I supposed the passenger could not have been allowed to pay a capital of $                  every day, and we had to be set aside as a target. I said-- 'But don't attempt to go on to that. It is a mistake. It is a very large smooth night. She has the most hospitable experience of the old generation of mates that run by the name of Shepherdson ---- M----.' Rogers followed suit. I said-- 'What's this?' 'The first thing I want to know. I think that spirits have got to give me no information about the Mississippi River in the American Bend, but the 'Susie' didn't have had a 'cub' out of it, and that when the time was up i would give the river a mile to St. Louis. I had just bought an old \n",
      "The world seemed like such a peaceful place until the magic tree was discovered in London. Not that I could have seen them. I had never seen pilots but before. I saw them talking about the place; so I was just below the pilot-house door. My younger brother appeared on the hurricane deck, and shouted to Brown to stop at this spot; and as soon as I got half way to ask it, I judged I would try and get ready to make her escape, but because he never knew how to talk it was time for me. Chapter Xvii. Well, the captain was asleep, but in one of them the boat was creeping through a kind of ruin and a whole house that was enough for shore, so it was plain that I was not feeling so like a passenger as I ever saw the boat. I saw the impression that was valuable. It was a grisly thing, but I could not see it; so I presently halted in a deep sleep, trying to make a noise, and heard the stony place to strike again. I had tried to get into the boat's hurricane deck under water. The boat was steering herself straight down through the broken-sighted river. A big island that used to land a long distance below the town was the river, and it paling shade the land up in its natural water. In the middle of the afternoon a shell had hoisted and slept in confusion of sleep. By and by, a troop of bats was whistling down, and constant explosions of mould and gravel. All of them but the fog was going on; so Jacksons Island was built in a dense fog, and it was joined fast in the distance. The boys were eating and placed in their tracks and made their way homeward through the woods. They were greeted and disappeared in the woods like a hail-storm, but they fared sumptuously upon the village boys, who were considered to be drawing water and the best life with them. These blocks were of rich folk--almost only for recent; everybody concerned that this happy landing was a free enemy, and they had built a railway car. The water was about three foot deep in size. It was twelve foot wide and about fifteen foot long, and the second was built from the west end of the Mississippi. In the head of the Ohio water we passed Troy and more than that, April 14 of the afternoon; and then I was about ten miles below the Mississippi. In 1722 the river darted up in the water, first of the short wood-boats on the other. We had a comfortable look at it, but I was on the river \"Prairie Miller\" on\n",
      "The world seemed like such a peaceful place until the magic tree was discovered in London. He moved a few drops upon his desk and stretched himself out into the water and made a bow. At last Tom, with uplifted hair, dragged him sadly forth, and went on chuckling while Hendon was about to bear so frantically with his bonds that had been applied by his Majesty, who had not created this annoying errand; then presently he said-- \"Did I die doubt _she_? Who art thou, boy, and thy child yet? Who art thou, boy, and thy sister are commanded that the dying could take pity and set thee fast away? Am I not ever friendless a king, but I believe that when you bring me to my hands and beg? Am I not thy loving father, lad?\" All this while he had finished, as being full and little in talk in the presence, he stepped upon the table, and exclaimed-- \"Idiot, dost imagine I feel my brother, and yet _I_ am come?\" The stunning surprise of these courtiers settled down in one of them and sent the prisoner into the front yard, under a shot which was deep in the sand. Tom found himself free, but was absorbed in it every time for the next day. Finally a revealing that time a drowned model presented itself upon Cantys lips; the girl turned herself upon Tom for a time, then passed away to the Earl of Hertford, exclaiming, \"If she can give me strength to that day, I will be my pet pilot. I am set for thee. Tell me of thy gracious friend--his mother is to be my servant. I am innocent. Will I go out to this town before day, and never mind our brother. I have known him so? Might it please your worship, for you may have made a gallant to die in this town?\" \"For thee, tis not wise--I had been in the business; but none that will but offer I could hold it out--they will not die. The riddle is unriddled. They will not say so.\" The next moment Hendon sprang to the ground to make a suggestion, but noiselessly, finally, to the man, \"Yes, that is _him_--she has been a brave--she has been laying all over. She is about the land. She is mad. The babe is mad and comely and comely; mayhap that she is driven away from the land wherever she sees her face. It was a shameful thing, and she broke out that school in a rapture of crime she lay there for joy! One of them, after all, all except some gentle and hopeful \n",
      "The world seemed like such a peaceful place until the magic tree was discovered in London. It was the snow, Sir Miles, and the Black Avenger of the Spanish Main; and after I had seen the entire river and the vast foundation of the American fleet, the fleet had been buried some miles away, and no bars on the Mississippi River is so close? Cairo would be about twelve miles below the villageand, and to hide, as it glides, away down the valley; and on the night you come suddenly to house between St. Louis and Cairo. 'Up on a dense night, nine times a straggler is running through some chaos of naked business, and makes a kind of pitch-trees overhead. One gets to go through the gauge-house, on the west. My chief Finn and I are alone in a few days that we are well acquainted with the histories of one of the American Ocean and the sublime; it commands it from my memory, for it is not the place at this time, that when I shall apply to my attention to the people, I will give all of it. Yes, and doubtless I may have given a lecture in this world, since I shall be is to blame when i have a commission; and I will give it a few more to say that they will not tell me but once, and keep them long till I enter. This desire lies, till you have heard of it, whilst I take the scoundrels. An I have not sport to ask the history of a mad and a riddle that is unworthy of the soul of a sort that is private. I have changed into the very young St. Louis--C--do not charge him. In the Lake Providence. Yes, it is a hell that doth without a friend. What was you?\" \"In truth. Please you, sir, my good people suffer it--and--\" \"Oh, hear him not, good sir, grant us a want, sir!\" A shudder came through the Kings face. \"Tom Sawyer _dost_ need it? Spare thyself discomfort or malice, an _o_ cannot do.\" \"Marry, good sir, I am indeed a king!\" Also the crowd fell apart, more and more: all the grace were fighting and the warriors were swept away; and not once more could bear a parting thought. They were followed by, who made him shudder and empty face. Hendons children came, now, all hands were being down and returning, 'Where. they are of the United States and Kentucky; for the fall of a nation trying to be true, for they win us all around: which one of these\n",
      "samples produced...\n",
      "garbage collected...\n",
      "session cleared (to save memory)...\n",
      "epoch:  28\n",
      "110/110 [==============================] - 13s 108ms/step - loss: 0.8313\n",
      "finished training...\n",
      "The world seemed like such a peaceful place until the magic tree was discovered in London. The houses were almost beautiful, the streets were overflowed, they had not changed notably in the neighborhood of the ferryboat, but the forces retired with weaker envy and weaker fears, and the acclamations stupefied by explosion. The air was laden with music, and the fragrance of the blossoms awful was quiet. The air was laden with music; the air rang with a wreath of shining music, the frowning and the blood that had fallen upon the cabin door. The boys entered and the ceremony of half-filled fire disturbed the stillness. They were in the shadow of the mob, hoping to see that they had not noticed whether the eyes were thicker than bristles up at the same time. The boys were not anxious to see them together. They came on crutches, Joe Harper, Joe Harper (a bosom friend) General Mabry on the stage. Tom hailed the Prince and his Majestys Commonwealth, and his voice trembled whilst he was alone to the sharpest time he had heard it. He stepped quickly toward the door, watching for the noise and the voices of the crowd. The King entered, and approached. The boy made a capture with him, and the angry breach was complete. When he got abroad at last he was satisfied that night, and the night was growing cloudy and dark. At last ten oclock he came up the deserted jail, and the ceremony of the village was reached. The room was filled with courtiers clothed in purple mantles--he eyed the boys awful and admiring sensations, but the acclamations refused to rise. He had only heard of the King entirely, and he was grateful that he had been doing wrong with an interest that had been so precious. Tom groaned louder, and fancied that he was not the Model Boy of the village--no, he would be admitted for it without knowing it. He was a German lad who had been accused of stealing a preacher, and he wished that the raftsmen were at Mr. Brown; but he never used the glimpse of a very bad New Orleans family to get hold of. It was a very sober place for a pirate that was not a success to be known as the \"Sunflower's Gang.\" The little church man of St. Petersburg and his chief son got his first thumb and had a most irreverent independence. He was a gifted pilot, a high and well clothed; and after her, melancholy, had a population of a petted prince in a palace, with a great Scriptural quotation or two or other other; but no, he had been feeling enough to enlarge upon the savage rigour of the whole world, and the\n",
      "The world seemed like such a peaceful place until the magic tree was discovered in London. The former little King sat up and rubbed his eyes and looked around him. He cast his hand open, seized the heavy hand and lit his cigar, and went creeping down back alleys the aisle, cracking the body and then bounding them off by several soiled coins. But the next instant he would have done it well, and he grabbed me and says: \"Git up and hump yourself, Jim. Its awful.\" \"But I dreamt that I said you believed I was dead in the night. They couldnt a got into no stock now. Jim had a gun, and I knowed that would come along. But I didnt see nobody around but the others laughing. We all crowded around the cabin considerable, but the king didnt know nothing for him; so he allowed they would light up and say I could a got the bother ways to see him, and that made me see the niggers come meddling, and so I got to cussing again, and Jim and me was in the wrong room by the ash-hopper for to help me and me if I didnt go to the woods. I got a licking, and I couldnt help it; so I got to work and give up sin & i didn't have no to tell him any reward in the world, nor a chaw, nor clown in the village, nor clown and niggers I wont think about which it isn't in my mind. I never said so about all I can help him. The man that owned the place was to copper the word in the old times, and so that I said I didnt get the money; because I was a stranger that wasnt so I didnt say nothing; but I was surprised to see how I had come to go by himself. I had done a thing; I would come to him & on the car. 'A word about the place was to copper the money; I was a dog, a boy after that; now come to the graveyard.' I was going to lay around there. I had never seen as many or four weeks before. I said I had stopped it. So I answered aloud-- 'What, then, do you think there was any way to give us the idea of our job; but it was a very good thing, too, but a still way. I couldn't remember anything about a boat that got to do with a broom, nor a chaw, either. I said I didnt know what to do. 'I guess I didnt want to go back and get it. So I told him I wasn\n",
      "The world seemed like such a peaceful place until the magic tree was discovered in London. He saw an old Quincy Roads several times and every morning Yates came out. Tom was General Mabry, and when Mabry got up and went to bed he was left alone and his guard given him a -, and he was not injured for a moment, and then he got back to his homes and was ready for him. The mate stood up and rubbed before him. He was the only one who had known half the year on record that Stephen was not able to name that he found that letter to Tom Sawyer, when he had seen the fellow a boy to him. He had had a little blue dog and a ruffled nightcap. The little church gentleman in that day was that the young lawyer was still on the boat, and was allowed to leave the country and wait for a rich place in the Valley of Guildhall. At the church door, afterward, he made a hearty speech, and sent him forth. Then he went on, Hendon out of the window, and went on with energy, \"My lord the Hereditary Diaperer stood by Tom Canty to speak of his princely highness and child, by the hand of Lynch--that the powder of that man had been present in the city, and that his health was busy with the same old dream denied for the change. But when he awoke, the air quaked under the blow. He began to imagine that the raftsmen should take turns to the king who had done it. He did not know how fast it was. Tom learned his story of the beautiful boys and were the offspring of God, and his mother, the little ladies, loved him--no, Hugo, as usual. The King sought out the farmer who had been branded and sold as a slave, and his mother hated Louis and familiar with the hated good messages that were in him. But the result was when he had been arrested. When Tom was hungry and low, Sid was surprised to find out what was said. He had a very strong opinion of it, as to the great authority of Lord St. Walters voice, which illustrated their judgment from it, not the astronomer. He delivered a greatly improved lecture upon Hucks behalf, and he strode away and went away, trembling and indignant, in a measured, in the presence of a crowd. The weighty business of dressing began to steal a vague breath. The poor little girl took his word in some direction. At that moment it was whispered to the young woman who came some of the young men who stood a few moments, breathing fiercely and shaking and said-- \"\n",
      "The world seemed like such a peaceful place until the magic tree was discovered in London. The village itself moved up into the narrow lane sucking about with flowers, their faces all filled with gold, and their gold adornments were against them. The Black Avenger of the Spanish Main village were so great as to be the only ones thereabouts; they tallied with the ghastly details of the excellence of the prisoner and the children; they were always there. They were about to travel down, with flowers, fruits, and dainties and delicacies in England, whose business-jolly spirits were. Their hopes commenced not wholly to save Toms sagacity mind, so that could not bear to be put forward. The congregation had been sufficient, but to fly to no purpose. At last, all gentleness and wretchedness, and the weariness which lay there their hopes faded, had confirmed what seemed strange and real a prince. Injun Joes bowie-knife, well filled with noble servitors, was a man of merciful and generous truth--and as Hertford hurried for time to swim to a considerable window in the palace, he should not have parted with his secret. After a while the weather was out of a circle of rising ground between it, and a rain of iron smoke blended upon it. He began to speak-- \"Prithee, give me no time for thee, I cannot bear it!\" The King answered, with a perplexing mixture of mockery and half-conviction in his tone-- \"I pray ye, ladies of my ... me of the Hall, and give thy first speech, and say thy foolery once.\" The King heard the Kings voice, and he gave his window and fired for getting it all over the forest. The mob sought up their minds, and they slept patiently until they were completely seeing to look uponfrom in their places. The chronicler says: \"These are _real_, like bay of Grangerfords, Jim, and I haint got the reputation for it. But maybe we are prisoners that can get well when they keep them in the trouble. And we can get them jobs up so as to get us to go to breakfast. Anyhow, right along the road and set her out easy and low, and then to do it to you and keep mum.\" So no answer with the king; and Tom says: \"What do dey stan for? Dont talk like Jims a lie. Its awful, Huck. I wish Id never been gone down in this horse. I hear smoke! Now theyre all around with me. I wish a nigger can tell on me. But good honest, nowIm sorry; I wasnt ever going to get started now.\" \"Oh, Ill be in \n",
      "The world seemed like such a peaceful place until the magic tree was discovered in London. It was a furious, hideous night, with a silken veil turned from its countless red hair a step toward the eye, and a rain of flame rose out of the distance. In the instant the sound of the feet sound more warm the sound showed that something had been arranged, that the imposing half was aiming at the hole. Tom got up and exclaimed: \"Nough!\" The sound chilled him came creeping upon the boy and reluctantly said-- \"Ah, how would I not know him, I am content, but I will neither think nor speak nor tongue nor feeling that need no more poor land sufficient to be my elder brother, where, whether it be within a lifetime or two that be true?\" \"Of a very serious crime month!\" \"I will not go, good my little prince--may not bide a single penny, lad, for my best eyes will answer for this offence.\" Tom turned wearily to the King and said-- \"Peradventure I mistook. I do recall, now, and so my mother came to suffer, and I will neither think nor speak nor speak of the thing.\" He finished, and answered humbly: \"Ah, tis a great day! Will none believe the purse!\" He smiled inwardly at that incredible folly when he heard it, and said-- \"Good sir, I be thanked, and will believe me: I am innocent: belike thou art a peer, whom I bear to make whole then come to thee. Thou art better now in the morning. Dig me down--leave me well.\" The woman sank back to the floor with a perishing hope. Tom gazed at the dish, and quickly said-- \"Let the pitying of her, and that her health is in my company, and will sorrow for her also to hate thee with sorrow that I remain so free and wise?\" Then he said aloud-- \"I will not protect thee; for there be but one other drop.\" They ran around her shoulders, and Tom touched Miles. The old man, with bent grey hair upon him, said: \"Oh, what a mess!\" Beckys face paled, now, but no girl struggled to blush. \"By him, what if he would call me, have you been talking to me?\" \"Yes, I am. And I wont do that, but you wont let me study a little further. Your mother was a grand New England family, and she showed how she had been cheated, because she didnt bring out to her old hair every day and sleep every day and all day. And you neednt do that, maybe. \n",
      "The world seemed like such a peaceful place until the magic tree was discovered in London. Something in the valley now--by the time that the bodies of brethren went up through the chute, there were thirty-six corpses of adults in sight, stretched on their backs a fire-wide, white, white-haired, white-haired, every sail along the other; two or three hundred wrecks at the head level were loose and ruinous once more. At the counter of the palace the passage ended by the St. John Head. The spy-glass revealed some awful talk; the day being come, every night hour we were alone away. Chapter X Toms chance was ready. Now they was under a tremendous view. The pirates got to seen him, but if the passengers were there they must have at the right and leftLanding the next few miles. Now they thought to their ever greater advantage that they gave no heed. For ten minutes now, there was no angels, and all young men were asleep in a neighboring crowd. The drowsing murmur of the stream oppressed every joint instant every little stillness was reached. Toms frantic limbs were released, and their heads were fairly precious. The King tried to plead for the justice who had repudiated the head, but finding none--an idea which the King gravely approved, remarking that Tom had persistently saved anybody in the world! But the thought in that old world nearly every sound was ever broken, but only the more so awful when, and of all which he knew but how to go for his brothers affairs. They said they would not believe the marvellous things he loved to know! He was a romantic man, and two young children. They were about the only people in the same fix. His voice was grown thread to her. His gentle eyes were tremblingly groping out of his face now, and he hung no joy of suffering in the company. She asked her where it was in time. She let him alone and \"take up\" for about a minute. The family tried to comfort them, but they all said it was all very pleasant to him. So it begun to cloud hard again. Nothing was said that there was a strange sound, and one boy said-- \"Give the rest, the whole land in the air!\" Scarcely five minutes later the tavern closed in again. The inmates were asleep and the wheels was blazing; the water was still on the ground. Tom skimmed around in the corner above the wreck. Tom stopped and stared down into the gloom and voices approaching the barn. Tom caught his breath, in and it stopped. The gladness in his eye was in no wise alarm that he had been feeling at once--a\n",
      "samples produced...\n",
      "garbage collected...\n",
      "session cleared (to save memory)...\n",
      "epoch:  29\n",
      "110/110 [==============================] - 13s 108ms/step - loss: 0.6627\n",
      "finished training...\n",
      "The world seemed like such a peaceful place until the magic tree was discovered in London. As the twilight proceeded, the Mississippi was about to be seen in the south, and to the left of that dead village under the ceaseless head of lightning that hung far over the breezy and sweeping the heavens with a dull and gusty night. The remaining two were at prime time the free fight was a deadly enemy. The travellers scampered through broad walls over the great prairies of Spanish Islands, clad in a distant city, holding the King s back in the water, made a picture of it about three or three inches deep in the distance, was just as if the poor parson had finished the same way, but the boys were not under the influence of their owner. They presently discovered that the fire had already run over it, and so did they could not keep it. The boys thought of the closet, but the bear was not afraid to find Huck. Tom was sitting on the sofa and stood by him. \"Tom, Tom, lookyhere! What did you say your name was?\" \"Sarah Williams, if I was dead.\" \"Well, I dont know. But spose she turned to tell?\" \"Why, I know I could. Dont you remember that Sid dont torment me? Why, she would be a-going to write about it before she can make a speech. You know she maynt, but you wont, but I dont care for her. Dont you stir nor budge. You dont whack mighty pleasant with you, and I cant do that. But I dont care for fishing; I wont ever tell!\" She said she warnt ashamed of him, and she was gone. She had flung her arms about her mothers neck, moaning and crying, and says: \"Oh, hes dead, hes dead, too, Huck. Sh-she, he never plays nor Aunt Sally, hardly, ever ever I struck for a slave.\" \"Oh, Tom, dont stir so, Sid, youll see if we said it was about I reckoned I could see you.\" \"Oh, Tom, dont do that, Tom. I dont want to see him. I dont want to see no more man.\" \"Well, I wont.\" \"Well, I wont.\" \"Well, I dont care for fishing. I dont want to blow on to-day if I can find it.\" \"Well, Ill just bet I will, Tom. But I dont look to that; I aint going to let him. It aint anything. I dont want to see no mo way out of it.\" \"Well, I dont care for fishing.\" \"\n",
      "The world seemed like such a peaceful place until the magic tree was discovered in London. It was a heavy night to that sweet-tongued little girl that fell in my heart. The world had brought a shame in him. She was hardly free in her picnic, now; she would be alone to the world where she had been happy. She talked about the Saturday afternoon during the trip with her uncle Tom, whom she had just come to trouble with. The body of whom Tom lived about to come to no advantage on Huck's account and not wholly easy; he could not understand it; she would try and be satisfied. She said she would cry-- \"I crave your mercy!\" said the King, with a perplexing mixture of mockery and half-conviction in his tone-- \"God requite thy mercy, O my gracious fool!\"     Tom was grateful, and he unmuffled his head to see whence this interruption. He said to himself, \"Tis a great pity, this jest is not so truly--but ill not the humour to.\" He turned, and said in a low voice-- \"Bide a moment, good sir--I have no hunger--let me about it--there will be no more storms than the wind. I will desert him--but it mattereth not--I will desert him--I will beg to stand or swear to bear so heavy and unwelcome tidings! I would have passed the land in my stead!--but it is not the sleep to find fault with neither. God forbid!\" \"Then am I undone tinselled?\" \"Thou needst not stir; thou canst not believe me; yes, I will need it, neither. I am innocent--neither wilt thou. But neither wilt I, being whole--neither wilt thou. Nor had any other nor friend, nor had to be read before these varlets, tis but a real thing--and mark one, it hath never left him. But it is a confession--though it is no common and easily thought.\" The King fell to a close the presence, and said-- \"Thy lord the King thy father!\" The King stirred. The hermit sprang noiselessly to the bedside and put the bundle behind him. The Prince looked into the night awhile, then said to the Lord St. John-- \"Plainly did he Majesty feel like to when he is refreshed to note it that boy shall deny me of your gracious Majesty--for these poor Providence--mind not thy help or ill-hearted these that be alike.\" The King fell back in dreamland for the moment. The hermit turned a pair of gleaming over the forest, tied a step to a mans throat with his hands\n",
      "The world seemed like such a peaceful place until the magic tree was discovered in London. The boys, being assembled, were turned to a piece of rising ground, where a table was standing, still the boys flew to shriek. Tom skimmed straight ahead, still talking, and fell to singing-- \"I will tell you something,\" said Tom; \"i will, I will--\" \"Thoult do it, good sir--I tell thee twas to touch thee!\" There was a ripple of mirth in the hush. Potter was as amazed as if she were cut, and observed to himself in a voice choked with laughter and derision. \"Look! I tell you everything! You go for the Widow!\" Then she says, kind of severe: \"Dont you say you I will, Tom?\" \"Well, I aint. But I bet you dont know.\" Tom drew up on the ground and began to stammer out a deep and satisfied sleep, saying: \"Hang the troublesome rubbage, let that go home with you, and dont bother me!\" \"Well, then, I blieve you, Huck. You better tell on me. You just think youre dying. Im looking at so you cant bear it myself.\" \"Yesheaps of times,\" said Tom; \"I dont want to stir you any further.\" \"I wont!\" The king broke in and reached out a slab of dirt which he could find, and then he held his candle in his seat, and said: \"You shut up, Sid. I was most scared with you, although I didnt see how I was to stop this now.\" \"No, Ill tell you everything just as you do. Now listen to my advice.\" \"Mumps your granny! And you cant get that so? Now I wont.\" \"You dont know that. I dont want to see.\" \"Well why dont you fall?\" \"Well, its hanted. Dont do that.\" \"Well, then, then, whatll we do?\" \"Why, to come after the island. I got to steal it and fix it, and I cant stand Jim.\" \"Well, then, Id like it that youve done that.\" \"Well, I dont understand it. Tom, I dont know how you want it.\" \"Well, then, whats that?\" \"It aint the thirty-five year job, Jim.\" \"Well,\" she says, \"Ill run across you and get a-going around all--you start up and give me your hand and Ill hunt _now_ you cant stand by for it. Its only weve got the candles. I aint hungry. I aint afeared of the dark. You just tell me the \n",
      "The world seemed like such a peaceful place until the magic tree was discovered in London. As the sun and the bright cock ran along, the morning comes, and peal and raging along, hour after hour after hour after hour and day after hour the fog slackened and we marched a shallow point of ground in a narrow lane, and the night clouded up and got to itching around. We flew in the engine-hole and took a swift place at the foot of the island, keeping a mile or two of the main shore and kept off my bed as far as the sunsfences a mile before I struck the town, and I thought I was going to turn up to the bank nights; but it warnt no use, they didnt happen to see the wreck. We judged that we might talk hardly before me. In the night stillness most dead, and we had our house, and there was only about fifteen to about the streets and rafts and carriages, and rafts, or other, are plenty of things, but they warnt nothing ever forgot, they didnt seem to raise hardly. I was feeling disappointed about all I wished, so I warnt disappointed at all, because I reckoned I would try to learn him he could be turned away by this person thats got a secret, and I would come. I had waited for a pirate on a mattress I judged Id hear me; and he said if I thought i had any idea I would a done that, because I got to steal him to tell the truth, and you thought it was about me. When things was dull, I was so weak to say. I said I would give everybody out of a many--maybe nobody would.' 'Well, that was true. He would give me a chance; wanted me to ask a question, and he told me I could if I could.' 'Well, you are in the State. Are those things that _is_ going to do? Why, he's a damned fool, and we have got to learn everything wrong. But what an opportunity _between_ after a man?' The now I said the pistol was while I entered. I retorted resolved to watch myself with him. He said-- 'Where's the first light?' 'Well, I will not go. It is my cousin Arthur, and I am full of trouble.' I mentioned a man that would rather do his best good. 'On very dark under the influence of the water, it is my own name, and this is more than sufficient, but pretty well; but it has a good sense, snap there; none else. Now, you have a wonderful letter, you know.\n",
      "The world seemed like such a peaceful place until the magic tree was discovered in London. The morning after the murder, Tom resignedly underwent the ordeal of being dressed for dinner. He had been restless and full of malice; he buttoned his neat roundabout up to his chin, turned her nose down, looked pale. He seized Joes shoulders, and said: \"Poor old chap, is dead-headed in her kitchen?\" \"Yesm.\" \"Well, so it was; but I reckon Id better go down like Aunt Sally, when you went away. I was awful sorry. Tom Sawyer, if I didnt go away from home Miss Sophia and get away from everybody and all the girls and turn robbers, and let him quit bad, sure.\" \"So they helped him.\" \"But did he give?\" \"By the whole strength that the tools has brought. But hes generally drunk enough. They _dont_ do that. I reckon they generally stop there a-r o the kings!\" \"Goodness! _I_ dont care for fishing.\" \"I cantI cant _do_ it?\"  \"Yesm.\" \"I dont care, Huck. I wouldnt strain every night,\" said Huck. \"I dont feel sick. Huck, maybe, dont. You cant, but I wont. But you dont be all right, Im dying or Ill believe I was you.\" She did as she had asked for that boy. She said she wouldnt let me. She said it was herself he loved me. She found out her father, too; she was like all breeds. She always has loved every moment, and she wont desert the house, and never hear anybody know who it is; and will betray me if I may!\" This indifference must \"quite a pretty early life,\" but Toms low condition kept this pleasant piece of time. She could not tell how fast he was troubled with his fingers. So, straightway, he entered a church wall of fine stuff, unconscious of the dreadful greatness of royalty; he had a good many a career of being singularly unworldly, and occupied with the other pirates. The childs was not so affected by so deep and so pat described by the lightning monster that was heard a human being. He saw the alley once or twice, as he strode, in a state of anguished sobs, and pounding him with his fists. This thing happened also to the other great officers. Morning Miles found himself tormented with a desire of high-wrought, clean-brown helmet and ribbon; there were high cheer and grinding and precious grass furniture and scrub with a crowd of red tickets in the same room. \"Yes,\" said he, \"I am the Resurrection and\n",
      "The world seemed like such a peaceful place until the magic tree was discovered in London. So the peoples had decreed that the English world was about to enter the people of the Mississippi, nor had their memory to themselves--and upon the soul of the King to lead this fine tramp of England!--ah, touch me, he hath been gone mad!\" Hendon was touched with shame, for soon felt that he was no brave and true. The things shift back to her, and she is full of pity and shame. This desire to be satisfied by this journey, and all her energies to high import and comfort this, would drift them into what was left of him and come back. If anybody should discover a real notion at the job, he never came to a large lake and pass the road thither. He was lying just in the wood-rank against a free jail, and the pictures of the daughters were too great for her--wherefore the grim bald-eyed lady of the village on the street door closed the door and the school-bag of the wreck. The boys wife had so wide about these particular experiences, in awed voices. Did the Lady Hugh feel troubled? As she desired, he contrived to tell her the history of the thing a moment came with a happy thought. Then he said-- \"There, bless you, madam, do I make thee gone?\" \"Yes, I doubt not, sir, else i did, neither will I, by my favour to him.\" His Majesty glared abroad over the 'texas,' and moved toward its place. The next moment the measured tread of the prince, followed by his brave mother and brother, passed him in his rags, and began to draw out, once upon the mans ear and hugging him. A sudden flush invaded his face, his cheeks swam open. \"Oh, if he should were to remember us--but no man knows just how he would.\" \"Then, Hugo?\" said Sir Hugh. \"Howll she feel sorry!\" said the King. The King was silent and thoughtful a while, complained. \"Mayhap I am,\" said the King, interrupting. \"An thou wilt make privilege of placing that man so ill clad and crown the King after all thy cruel work to meet him as a little short--wait, for the omen is dreaming! Go, my Lord St. John Herbert!\" \"Trample not upon thy beseeching worms, O noble Majesty!\" Poor wit, wrung into his ear, took his lean hand on his shoulder and holding it noiselessly, crying out, \"Devil, lady! give him a kick!\" Then he cried; he caught Amy Y over, and whispered \"Lady\n",
      "samples produced...\n",
      "garbage collected...\n",
      "session cleared (to save memory)...\n"
     ]
    }
   ],
   "source": [
    "loss = tf.keras.losses.SparseCategoricalCrossentropy(from_logits=True)\n",
    "opt = tf.keras.optimizers.Adam(learning_rate=0.002)\n",
    "model.compile(optimizer=opt, loss=loss)\n",
    "\n",
    "epoch_offset = 10\n",
    "num_epochs_total = 30\n",
    "if restart:\n",
    "  start_epoch = 0\n",
    "else:\n",
    "  start_epoch = epoch_to_pickup\n",
    "for e in range(start_epoch, num_epochs_total):\n",
    "  success = False\n",
    "  while(success == False):\n",
    "    try:\n",
    "      print(\"epoch: \", e)\n",
    "      if e < num_epochs_total-epoch_offset:\n",
    "        new_text = getRandomText(numbooks = 20)\n",
    "      else:\n",
    "        new_text = sherlock_text + getRandomText(numbooks = (num_epochs_total - e)//10)\n",
    "      # new_text = getMyText(files)\n",
    "      dataset = text_to_dataset(new_text)\n",
    "      del new_text\n",
    "      dataset = setup_dataset(dataset)\n",
    "      if(e > num_epochs_total-epoch_offset):\n",
    "        #opt = tf.keras.optimizers.Adam(learning_rate=0.002*(0.97**e))\n",
    "        #model.compile(optimizer=opt, loss=loss)\n",
    "        model.optimizer.learning_rate.assign(0.002*(0.99**e))\n",
    "      model.fit(dataset, epochs=1, verbose=1)\n",
    "      print(\"finished training...\")\n",
    "      del dataset\n",
    "      #print(\"saving weights...\")\n",
    "      #model.save_weights(path + \"lstm_gru_SH_modelweights_fall2023-random_urls.h5\")\n",
    "      #print(\"weights saved...\")\n",
    "      if(e > num_epochs_total-epoch_offset):\n",
    "        for temp in [0.4, 0.5, 0.6, 0.7, 0.8, 0.9]:\n",
    "          produce_sample(model,vectorize_layer,vocabulary, temp, e, 'The world seemed like such a peaceful place until the magic tree was discovered in London.')\n",
    "        print(\"samples produced...\")\n",
    "        gc.collect()\n",
    "        print(\"garbage collected...\")\n",
    "        tf.keras.backend.clear_session()\n",
    "        print(\"session cleared (to save memory)...\")\n",
    "        #tf.config.experimental.reset_all()\n",
    "      success = True\n",
    "    except:\n",
    "      gc.collect()\n",
    "      tf.keras.backend.clear_session()\n",
    "      #tf.config.experimental.reset_all()\n",
    "      try:\n",
    "        del dataset\n",
    "      except:\n",
    "        print(\"dataset already deleted\")\n",
    "      print(\"retrying epoch: \" , e)\n",
    "\n",
    "# Send training complete notification \n",
    "notification.notify(\n",
    "    title='Training Complete!',\n",
    "    message = 'Done!',\n",
    "    app_icon=None,\n",
    "    timeout=10,\n",
    ")"
   ]
  }
 ],
 "metadata": {
  "accelerator": "GPU",
  "colab": {
   "gpuType": "T4",
   "provenance": []
  },
  "kernelspec": {
   "display_name": "RNN_gpu",
   "language": "python",
   "name": "python3"
  },
  "language_info": {
   "codemirror_mode": {
    "name": "ipython",
    "version": 3
   },
   "file_extension": ".py",
   "mimetype": "text/x-python",
   "name": "python",
   "nbconvert_exporter": "python",
   "pygments_lexer": "ipython3",
   "version": "3.9.18"
  }
 },
 "nbformat": 4,
 "nbformat_minor": 0
}
